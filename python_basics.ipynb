{
  "nbformat": 4,
  "nbformat_minor": 0,
  "metadata": {
    "colab": {
      "provenance": []
    },
    "kernelspec": {
      "name": "python3",
      "display_name": "Python 3"
    },
    "language_info": {
      "name": "python"
    }
  },
  "cells": [
    {
      "cell_type": "markdown",
      "source": [
        "1.What is Python, and why is it popular?\n",
        ">Python is a high-level, interpreted programming language known for its simplicity and readability. It is popular due to its versatility, extensive libraries, and strong community support, making it ideal for web development, data science, AI, and automation. Its easy-to-learn syntax and wide range of applications contribute to its widespread adoption\n",
        "\n",
        "2.What is an interpreter in Python?\n",
        ">An interpreter in Python is a program that executes Python code line by line, converting it into machine-readable instructions. Unlike compilers, which translate the entire code before execution, an interpreter runs the code directly, making debugging easier\n",
        "\n",
        "3.What are pre-defined keywords in Python?\n",
        ">Pre-defined keywords in Python are reserved words that have special meanings and cannot be used as variable names, function names, or identifiers. These keywords define the syntax and structure of Python programs\n",
        "\n",
        "4.Can keywords be used as variable names\n",
        ">no keyword cannot be used as variable name.because they are reserved words with special meanings.\n",
        "\n",
        "5.What is mutability in Python?\n",
        ">Mutability refers to whether an object can be changed after it has been created\n",
        "\n",
        "6.Why are lists mutable, but tuples are immutable?\n",
        ">Lists are mutable because they allow modifications like adding, removing, or changing elements in place. Tuples are immutable as they are stored in a fixed memory block and cannot be changed after creation. Lists need extra memory allocation for flexibility, while tuples are optimized for performance and security. This makes tuples faster and safer for use as dictionary keys.\n",
        "\n",
        "7.What is the difference between “==” and “is” operators in Python?\n",
        ">The == operator checks for value equality, meaning it compares whether two variables have the same data. The is operator checks for identity equality, meaning it compares whether two variables refer to the same memory location.\n",
        "\n",
        "8.What are logical operators in Python?\n",
        ">Logical operators in Python are used to combine conditions and return True or False. The and operator returns True if both conditions are true, while or returns True if at least one condition is true. The not operator negates a condition, reversing True to False and vice versa. These operators are commonly used in conditional statements and loops.\n",
        "\n",
        "9.What is type casting in Python?\n",
        ">Type casting in Python is the process of converting one data type into another. It can be explicit (manual) using functions like int(), float(), str(), or implicit (automatic) when Python converts types automatically.\n",
        "\n",
        "10.What is the difference between implicit and explicit type casting?\n",
        ">Implicit\tPython automatically converts a smaller data type to a larger one without data loss.\tx = 5 + 2.5 # int → float.\n",
        "Explicit\tThe user manually converts one data type to another using functions like int(), float(), str().\ty = int(\"10\") # str → int.\n",
        "\n",
        "11.What is the purpose of conditional statements in Python?\n",
        ">Conditional statements in Python control the flow of a program by executing different blocks of code based on conditions. They allow decision-making using if, elif, and else statements.\n",
        "\n",
        "12.How does the elif statement work?\n",
        ">The elif statement in Python allows checking multiple conditions in an if-elif-else block. If the if condition is False, Python checks the elif conditions one by one until it finds a True condition. If none are True, the else block executes.\n",
        "\n",
        "13.What is the difference between for and while loops?\n",
        ">for loop is used when the number of iterations is known, iterating over sequences like lists or ranges.\n",
        "\n",
        ">while loop runs until a condition becomes False, useful when the number of iterations is unknown.\n",
        "\n",
        ">Example: for i in range(5): print(i) (fixed iterations), while x < 5: print(x); x += 1 (condition-based).\n",
        "\n",
        "14.escribe a scenario where a while loop is more suitable than a for loop.?\n",
        ">A while loop is more suitable when the number of iterations is unknown and depends on a condition.\n",
        "Scenario: User Input Validation\n",
        "A program keeps asking the user for a valid password until they enter the correct one."
      ],
      "metadata": {
        "id": "qpycPo373JgH"
      }
    },
    {
      "cell_type": "markdown",
      "source": [
        "#PRACTICAL QUESTIONS"
      ],
      "metadata": {
        "id": "AASWg-VMMqph"
      }
    },
    {
      "cell_type": "code",
      "source": [
        "#1.Write a Python program to print \"Hello, World!\"\n",
        "print(\"Hello, World\")"
      ],
      "metadata": {
        "colab": {
          "base_uri": "https://localhost:8080/"
        },
        "id": "mfNE_sdV9WOg",
        "outputId": "8213b2aa-9993-4166-8af5-6dc6fa292a5f"
      },
      "execution_count": 1,
      "outputs": [
        {
          "output_type": "stream",
          "name": "stdout",
          "text": [
            "Hello, World\n"
          ]
        }
      ]
    },
    {
      "cell_type": "code",
      "source": [
        "#2.Write a Python program that displays your name and age.\n",
        "name = input(\"Enter your name: \")\n",
        "age = input(\"Enter your age: \")\n",
        "print(\"Name:\", name)\n",
        "print(\"Age:\", age)"
      ],
      "metadata": {
        "colab": {
          "base_uri": "https://localhost:8080/"
        },
        "id": "iwGiNSOP9cqN",
        "outputId": "56dedb4e-3f4f-4a1d-b0e9-814a0a39247c"
      },
      "execution_count": 2,
      "outputs": [
        {
          "output_type": "stream",
          "name": "stdout",
          "text": [
            "Enter your name: bhav\n",
            "Enter your age: 12\n",
            "Name: bhav\n",
            "Age: 12\n"
          ]
        }
      ]
    },
    {
      "cell_type": "code",
      "source": [
        "#3.Write code to print all the pre-defined keywords in Python using the keyword library\n",
        "import keyword\n",
        "print(keyword.kwlist)\n"
      ],
      "metadata": {
        "colab": {
          "base_uri": "https://localhost:8080/"
        },
        "id": "8HsdzmZH-xbp",
        "outputId": "dbd8c1bb-8936-4ff8-840c-71fb7d8de40c"
      },
      "execution_count": 5,
      "outputs": [
        {
          "output_type": "stream",
          "name": "stdout",
          "text": [
            "['False', 'None', 'True', 'and', 'as', 'assert', 'async', 'await', 'break', 'class', 'continue', 'def', 'del', 'elif', 'else', 'except', 'finally', 'for', 'from', 'global', 'if', 'import', 'in', 'is', 'lambda', 'nonlocal', 'not', 'or', 'pass', 'raise', 'return', 'try', 'while', 'with', 'yield']\n"
          ]
        }
      ]
    },
    {
      "cell_type": "code",
      "source": [
        "#4.Write a program that checks if a given word is a Python keyword.Write a program that checks if a given word is a Python keyword.\n",
        "input_word = input(\"Enter a word: \")\n",
        "if keyword.iskeyword(input_word):\n",
        "    print(f\"{input_word} is a Python keyword.\")\n",
        "else:\n",
        "    print(f\"{input_word} is not a Python keyword.\")"
      ],
      "metadata": {
        "colab": {
          "base_uri": "https://localhost:8080/"
        },
        "id": "wRO75PFB-9Xo",
        "outputId": "a550d707-27b9-4afa-cdcd-4efe6571de19"
      },
      "execution_count": 6,
      "outputs": [
        {
          "output_type": "stream",
          "name": "stdout",
          "text": [
            "Enter a word: None\n",
            "None is a Python keyword.\n"
          ]
        }
      ]
    },
    {
      "cell_type": "code",
      "source": [
        "#5. Create a list and tuple in Python, and demonstrate how attempting to change an element works differently\n",
        "list=[1,2,3,4]\n",
        "print(\"list before:\",list)\n",
        "list[2]=5\n",
        "print(\"list after adding number:\",list)\n",
        "\n",
        "tup=(1,2,3,4)\n",
        "print(\"tuple before:\",tup)\n",
        "tup[2]=5\n"
      ],
      "metadata": {
        "colab": {
          "base_uri": "https://localhost:8080/",
          "height": 245
        },
        "id": "G-sqUj_pAQi3",
        "outputId": "c7eca685-53be-4f0e-8bd9-dce719467522"
      },
      "execution_count": 14,
      "outputs": [
        {
          "output_type": "stream",
          "name": "stdout",
          "text": [
            "list before: [1, 2, 3, 4]\n",
            "list after adding number: [1, 2, 5, 4]\n",
            "tuple before: (1, 2, 3, 4)\n"
          ]
        },
        {
          "output_type": "error",
          "ename": "TypeError",
          "evalue": "'tuple' object does not support item assignment",
          "traceback": [
            "\u001b[0;31m---------------------------------------------------------------------------\u001b[0m",
            "\u001b[0;31mTypeError\u001b[0m                                 Traceback (most recent call last)",
            "\u001b[0;32m<ipython-input-14-00db7f12ea0f>\u001b[0m in \u001b[0;36m<cell line: 0>\u001b[0;34m()\u001b[0m\n\u001b[1;32m      7\u001b[0m \u001b[0mtup\u001b[0m\u001b[0;34m=\u001b[0m\u001b[0;34m(\u001b[0m\u001b[0;36m1\u001b[0m\u001b[0;34m,\u001b[0m\u001b[0;36m2\u001b[0m\u001b[0;34m,\u001b[0m\u001b[0;36m3\u001b[0m\u001b[0;34m,\u001b[0m\u001b[0;36m4\u001b[0m\u001b[0;34m)\u001b[0m\u001b[0;34m\u001b[0m\u001b[0;34m\u001b[0m\u001b[0m\n\u001b[1;32m      8\u001b[0m \u001b[0mprint\u001b[0m\u001b[0;34m(\u001b[0m\u001b[0;34m\"tuple before:\"\u001b[0m\u001b[0;34m,\u001b[0m\u001b[0mtup\u001b[0m\u001b[0;34m)\u001b[0m\u001b[0;34m\u001b[0m\u001b[0;34m\u001b[0m\u001b[0m\n\u001b[0;32m----> 9\u001b[0;31m \u001b[0mtup\u001b[0m\u001b[0;34m[\u001b[0m\u001b[0;36m2\u001b[0m\u001b[0;34m]\u001b[0m\u001b[0;34m=\u001b[0m\u001b[0;36m5\u001b[0m\u001b[0;34m\u001b[0m\u001b[0;34m\u001b[0m\u001b[0m\n\u001b[0m\u001b[1;32m     10\u001b[0m \u001b[0mprint\u001b[0m\u001b[0;34m(\u001b[0m\u001b[0;34m\"tuple after adding number:\"\u001b[0m\u001b[0;34m,\u001b[0m\u001b[0mTypeError\u001b[0m\u001b[0;34m)\u001b[0m\u001b[0;34m\u001b[0m\u001b[0;34m\u001b[0m\u001b[0m\n",
            "\u001b[0;31mTypeError\u001b[0m: 'tuple' object does not support item assignment"
          ]
        }
      ]
    },
    {
      "cell_type": "code",
      "source": [
        "#6.Write a function to demonstrate the behavior of mutable and immutable arguments.\n",
        "def modify_list(num,lst):\n",
        "    num+=4\n",
        "    lst.append(4)\n",
        "num=6\n",
        "my_list = [1, 2, 3]\n",
        "modify_list(num,my_list)\n",
        "print(\"mutable argument:\",my_list)\n",
        "print(\"immutabel argumenet\",num)\n",
        "\n",
        "\n"
      ],
      "metadata": {
        "colab": {
          "base_uri": "https://localhost:8080/"
        },
        "id": "shwx3JniAtu3",
        "outputId": "8cd8e486-0196-4f41-b960-6601b6b78ccf"
      },
      "execution_count": 17,
      "outputs": [
        {
          "output_type": "stream",
          "name": "stdout",
          "text": [
            "mutable argument: [1, 2, 3, 4]\n",
            "immutabel argumenet 6\n"
          ]
        }
      ]
    },
    {
      "cell_type": "code",
      "source": [
        "#7.Write a program that performs basic arithmetic operations on two user-input numbers.\n",
        "a=int(input(\"enter first number:\"))\n",
        "b=int(input(\"enter second number:\"))\n",
        "print(\"addition:\",a+b)\n",
        "print(\"subtraction:\",a-b)\n",
        "print(\"multiplication:\",a*b)\n",
        "print(\"division:\",a/b)\n"
      ],
      "metadata": {
        "colab": {
          "base_uri": "https://localhost:8080/"
        },
        "id": "cWtR8v8fDoze",
        "outputId": "97dc42aa-4632-47f6-db54-2f5a7b785743"
      },
      "execution_count": 18,
      "outputs": [
        {
          "output_type": "stream",
          "name": "stdout",
          "text": [
            "enter first number:22\n",
            "enter second number:4\n",
            "addition: 26\n",
            "subtraction: 18\n",
            "multiplication: 88\n",
            "division: 5.5\n"
          ]
        }
      ]
    },
    {
      "cell_type": "code",
      "source": [
        "#8. Write a program to demonstrate the use of logical operators.\n",
        "age=int(input(\"enter age\"))\n",
        "citizenship=input(\"enter citizenship\").lower()\n",
        "if age >=18 and citizenship == 'india':\n",
        "  print(\"You are eligible to vote.\")\n",
        "elif age>=18 or not citizenship == 'india' :\n",
        "  print(\"You are not eligible to vote.\")\n",
        "else:\n",
        "  print(\"invalid inputs\")\n",
        ""
      ],
      "metadata": {
        "colab": {
          "base_uri": "https://localhost:8080/"
        },
        "id": "QNRjjG7wDpXl",
        "outputId": "8d770189-c9f7-4b47-c8a4-37900cef07e4"
      },
      "execution_count": 23,
      "outputs": [
        {
          "output_type": "stream",
          "name": "stdout",
          "text": [
            "enter age22\n",
            "enter citizenshipamerica\n",
            "You are not eligible to vote.\n"
          ]
        }
      ]
    },
    {
      "cell_type": "code",
      "source": [
        "#9. Write a Python program to convert user input from string to integer, float, and boolean types.\n",
        "str=input(\"enter the number string\")\n",
        "print(\"given string:\",str)\n",
        "print(\"string to integer:\",int(str))\n",
        "print(\"string to float:\",float(str))\n",
        "print(\"string to boolean:\",bool(str))"
      ],
      "metadata": {
        "colab": {
          "base_uri": "https://localhost:8080/"
        },
        "id": "KZ2W7C_TE6zj",
        "outputId": "f99bcd59-1390-4aec-d314-7777eac80049"
      },
      "execution_count": 26,
      "outputs": [
        {
          "output_type": "stream",
          "name": "stdout",
          "text": [
            "enter the number string22\n",
            "given string: 22\n",
            "string to integer: 22\n",
            "string to float: 22.0\n",
            "string to boolean: True\n"
          ]
        }
      ]
    },
    {
      "cell_type": "code",
      "source": [
        "#10. Write code to demonstrate type casting with list elements.\n",
        "str_list=[\"10\",\"20\",\"30\",\"40\"]\n",
        "ls=[int(i) for i  in str_list]\n",
        "print(\"string list:\",str_list)\n",
        "print(\"integer list:\",ls)\n",
        "\n",
        "\n",
        ""
      ],
      "metadata": {
        "colab": {
          "base_uri": "https://localhost:8080/"
        },
        "id": "EL72gqhmFqbA",
        "outputId": "dc496487-f17b-45a8-8107-28f6e99d4a75"
      },
      "execution_count": 35,
      "outputs": [
        {
          "output_type": "stream",
          "name": "stdout",
          "text": [
            "string list: ['10', '20', '30', '40']\n",
            "integer list: [10, 20, 30, 40]\n"
          ]
        }
      ]
    },
    {
      "cell_type": "code",
      "source": [
        "#11.Write code to demonstrate type casting with list elements.\n",
        "num=int(input(\"enter number\"))\n",
        "if num>0:\n",
        "  print(\"number is positive\")\n",
        "elif num<0:\n",
        "  print(\"number is negative\")\n",
        "else:\n",
        "  print(\"number is zero\")"
      ],
      "metadata": {
        "colab": {
          "base_uri": "https://localhost:8080/"
        },
        "id": "RXlJ00NqGOm-",
        "outputId": "02eefcd7-8952-4e5d-d8c1-66176d7ec46a"
      },
      "execution_count": 37,
      "outputs": [
        {
          "output_type": "stream",
          "name": "stdout",
          "text": [
            "enter number0\n",
            "number is zero\n"
          ]
        }
      ]
    },
    {
      "cell_type": "code",
      "source": [
        "#12.Write a for loop to print numbers from 1 to 10\n",
        "for i in range(1,11):\n",
        "  print(i,end=\" \")"
      ],
      "metadata": {
        "colab": {
          "base_uri": "https://localhost:8080/"
        },
        "id": "GppdR_JEHW4C",
        "outputId": "26e46972-3bb4-48ee-de27-d237e7f71fc4"
      },
      "execution_count": 39,
      "outputs": [
        {
          "output_type": "stream",
          "name": "stdout",
          "text": [
            "1 2 3 4 5 6 7 8 9 10 "
          ]
        }
      ]
    },
    {
      "cell_type": "code",
      "source": [
        "#13 Write a Python program to find the sum of all even numbers between 1 and 50.\n",
        "sum=0\n",
        "for i in range(1,50):\n",
        "  if i%2==0:\n",
        "    sum+=i\n",
        "print(\"sum of even numbers:\",sum)\n",
        "\n",
        "\n",
        "\n"
      ],
      "metadata": {
        "colab": {
          "base_uri": "https://localhost:8080/"
        },
        "id": "O7tgU9LhHoP7",
        "outputId": "c16fa3c5-921c-4366-e63e-71d6723465ed"
      },
      "execution_count": 46,
      "outputs": [
        {
          "output_type": "stream",
          "name": "stdout",
          "text": [
            "sum of even numbers: 600\n"
          ]
        }
      ]
    },
    {
      "cell_type": "code",
      "source": [
        "#14.Write a program to reverse a string using a while loop.\n",
        "st=input(\"enter string:\")\n",
        "index=len(st)\n",
        "while index>0:\n",
        "  st1=st[: :-1]\n",
        "  index-=1\n",
        "print('actual string:',st)\n",
        "print('reversed string:',st1)\n"
      ],
      "metadata": {
        "colab": {
          "base_uri": "https://localhost:8080/"
        },
        "id": "dZP5sh9dIKOu",
        "outputId": "d4927ae9-050c-4940-b5a0-8858bcd63117"
      },
      "execution_count": 51,
      "outputs": [
        {
          "output_type": "stream",
          "name": "stdout",
          "text": [
            "enter string:bhav\n",
            "actual string: bhav\n",
            "reversed string: vahb\n"
          ]
        }
      ]
    },
    {
      "cell_type": "code",
      "source": [
        "#15.Write a Python program to calculate the factorial of a number provided by the user using a while loop.\n",
        "num=int(input(\"enter the number\"))\n",
        "fact=1\n",
        "i=num\n",
        "while i>0:\n",
        "  if num==0:\n",
        "    print(\"factorial of 0 is 1\")\n",
        "  else:\n",
        "    fact=fact*i\n",
        "    i=i-1\n",
        "print(f\"factorial of {num} is {fact}\")"
      ],
      "metadata": {
        "colab": {
          "base_uri": "https://localhost:8080/"
        },
        "id": "TWGCUl6CI5R3",
        "outputId": "adad86af-6f95-4403-c6f6-b38f788f2d1c"
      },
      "execution_count": 58,
      "outputs": [
        {
          "output_type": "stream",
          "name": "stdout",
          "text": [
            "enter the number5\n",
            "factorial of 5 is 120\n"
          ]
        }
      ]
    }
  ]
}