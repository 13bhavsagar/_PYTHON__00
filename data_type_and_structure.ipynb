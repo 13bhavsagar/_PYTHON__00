{
  "nbformat": 4,
  "nbformat_minor": 0,
  "metadata": {
    "colab": {
      "provenance": []
    },
    "kernelspec": {
      "name": "python3",
      "display_name": "Python 3"
    },
    "language_info": {
      "name": "python"
    }
  },
  "cells": [
    {
      "cell_type": "markdown",
      "source": [
        "# Data types and structure\n",
        "\n",
        " 1.What are data structures, and why are they important?\n",
        "\n",
        "   >Data structure is a way of storing data in a computer so that it can be used in efficient way.They are important because they provide the foundation fro solving complex problems in programming by optimizing resource usage.\n",
        "\n",
        "2.Explain the difference between mutable and immutable data types with examples.\n",
        "   >mutable  data types can be modified without creating  new objects or     without changing  their memory address eg;list,set,dictionary\n",
        "\n",
        "   >-immutable datatypes cannnot be modified after creation .eg; string,tuple.\n",
        "\n",
        "3.What are the main differences between lists and tuples in Python?\n",
        "  >-list is mutable datatype whereeas tuple is immutable datatype.\n",
        "   \n",
        "   >syntax of list:[]\n",
        "\n",
        "  >syntax of tuple:()\n",
        "\n",
        "4.Describe how dictionaries store data?\n",
        ">  Dictionaries store data in a key value pair where keys are unique.\n",
        "\n",
        "5.Why might you use a set instead of a list in Python?\n",
        ">Use set instead of a list when you need unique elements and set operations like union and intersection\n",
        "\n",
        "6.What is a string in Python, and how is it different from a list?\n",
        ">A string is an imuutable datatype which is used to store a sequence of characters ,enclosed in quotes(\" \" or ' ').\n",
        "where list  can store multiple type of data.\n",
        "\n",
        "7.How do tuples ensure data integrity in Python?\n",
        ">Tuples ensure data integrity in Python by being immutable, preventing accidental modifications and preserving the original data structure.\n",
        "\n",
        "8.What is a hash table, and how does it relate to dictionaries in Python?\n",
        ">A hash table is a data structure that stores key-value pairs using a hash function to map keys to unique memory locations for fast access.In Python, dictionaries (dict) are implemented using hash tables.\n",
        "\n",
        "9.Can lists contain different data types in Python?\n",
        ">Yes list can contain different data types including integers ,strings,float,boolean.\n",
        "\n",
        "10.Explain why strings are immutable in Python?\n",
        ">Strings are immutable in Python because they are stored as fixed memory locations to optimize performance, security, and memory efficiency.\n",
        "\n",
        "11.What advantages do dictionaries offer over lists for certain tasks?\n",
        ">Dictionaries offer O(1) lookups, key-value storage, and faster insertions/deletions compared to lists (O(n)). They ensure unique keys and provide better readability with named access (dict[\"key\"] vs. list index).\n",
        "\n",
        "12.Describe a scenario where using a tuple would be preferable over a list?\n",
        ">Use a tuple over a list when you need immutable, fixed data that should not change, ensuring data integrity and faster performance.\n",
        ">eg:Storing coordinates (latitude, longitude) in a GPS system.\n",
        "\n",
        "13.How do sets handle duplicate values in Python?\n",
        ">In Python, sets automatically remove duplicate values because they store only unique elements using hashing.\n",
        "\n",
        "14.How does the “in” keyword work differently for lists and dictionaries?\n",
        ">The in keyword checks for membership but works differently for lists and dictionaries:\n",
        "Lists (O(n))  Performs a linear search, checking each element one by one.Dictionaries (O(1)) Checks only keys using hashing, making it much faster.\n",
        "\n",
        "15.Can you modify the elements of a tuple? Explain why or why not?\n",
        ">No you cannot modify the elements of tuple manually because tuples are immutable.\n",
        "\n",
        "16.What is a nested dictionary, and give an example of its use case?\n",
        ">A nested dictionary is a dictionary that contains another dictionary as a value.\n",
        ">use case:storing students records.\n",
        "\n",
        "17.Describe the time complexity of accessing elements in a dictionary.\n",
        ">Time complexity of accessing elements in a dictionary is O(1).\n",
        "\n",
        "18.In what situations are lists preferred over dictionaries?\n",
        ">Ordered Data Storage : Lists preserve order, while dictionaries  did not.\n",
        "\n",
        ">Faster Iteration : Lists are efficient for looping through elements sequentially.\n",
        "\n",
        ">Index-Based Access : Lists allow direct access using positions (list[i]), unlike dictionaries.\n",
        "\n",
        ">Memory Efficiency : Lists consume less memory than dictionaries for simple sequential data.\n",
        "\n",
        "19.Why are dictionaries considered unordered, and how does that affect data retrieval?\n",
        ">dictionaries were implemented using hash tables, meaning they did not maintain the insertion order of keys. Instead, data was stored based on hash values, making retrieval unpredictable.\n",
        "\n",
        "20.Explain the difference between a list and a dictionary in terms of data retrieval.\n",
        ">List: Uses index-based retrieval (O(1)) when accessing an element by position.\n",
        ">Dictionary: Uses key-based retrieval (O(1)) via hashing, making lookups faster for large datasets."
      ],
      "metadata": {
        "id": "KHXpHzImTY4d"
      }
    },
    {
      "cell_type": "markdown",
      "source": [
        "#PRACTICAL QUESTIONS"
      ],
      "metadata": {
        "id": "jQPGo0yShtXE"
      }
    },
    {
      "cell_type": "code",
      "source": [
        "# 1. Write a code to create a string with your name and print it\n",
        "str=\"python\"\n",
        "print(str)"
      ],
      "metadata": {
        "colab": {
          "base_uri": "https://localhost:8080/"
        },
        "id": "Ni4olmqvgWKh",
        "outputId": "96c56ced-8b6d-43b6-dd5c-adadbd62bc83"
      },
      "execution_count": 85,
      "outputs": [
        {
          "output_type": "stream",
          "name": "stdout",
          "text": [
            "python\n"
          ]
        }
      ]
    },
    {
      "cell_type": "code",
      "source": [
        "# 2.Write a code to find the length of the string \"Hello World\"\n",
        "str=\"Hello World\"\n",
        "print(len(str))"
      ],
      "metadata": {
        "colab": {
          "base_uri": "https://localhost:8080/"
        },
        "id": "Mbt8suTeU-H3",
        "outputId": "fbfa2b6e-7d14-4a18-e90c-133af61fc3a5"
      },
      "execution_count": 86,
      "outputs": [
        {
          "output_type": "stream",
          "name": "stdout",
          "text": [
            "11\n"
          ]
        }
      ]
    },
    {
      "cell_type": "code",
      "source": [
        "# 3. Write a code to slice the first 3 characters from the string \"Python Programming\"\n",
        "str=\"Python Programming\"\n",
        "print(str[:3])"
      ],
      "metadata": {
        "colab": {
          "base_uri": "https://localhost:8080/"
        },
        "id": "TCs5NlJdiOq4",
        "outputId": "b4150dd8-184c-42b3-dbd6-e943c796b50f"
      },
      "execution_count": 87,
      "outputs": [
        {
          "output_type": "stream",
          "name": "stdout",
          "text": [
            "Pyt\n"
          ]
        }
      ]
    },
    {
      "cell_type": "code",
      "source": [
        "# 4. Write a code to convert the string \"hello\" to uppercase.\n",
        "str='hello'\n",
        "print(str.upper())"
      ],
      "metadata": {
        "colab": {
          "base_uri": "https://localhost:8080/"
        },
        "id": "g46FMaz3ifsN",
        "outputId": "061a99c9-1ff4-4724-b7ca-f134cf6bbba0"
      },
      "execution_count": 88,
      "outputs": [
        {
          "output_type": "stream",
          "name": "stdout",
          "text": [
            "HELLO\n"
          ]
        }
      ]
    },
    {
      "cell_type": "code",
      "source": [
        "# 5. Write a code to replace the word \"apple\" with \"orange\" in the string \"I like apple\"\n",
        "str=\"I like apple\"\n",
        "print(str.replace(\"apple\",\"orange\"))"
      ],
      "metadata": {
        "colab": {
          "base_uri": "https://localhost:8080/"
        },
        "id": "yJwZc_z1iqDg",
        "outputId": "ba0c39e3-ddf0-4742-9e82-93337e121c84"
      },
      "execution_count": 89,
      "outputs": [
        {
          "output_type": "stream",
          "name": "stdout",
          "text": [
            "I like orange\n"
          ]
        }
      ]
    },
    {
      "cell_type": "code",
      "source": [
        "#6. Write a code to create a list with numbers 1 to 5 and print it\n",
        "[i for i in range(1,6)]"
      ],
      "metadata": {
        "colab": {
          "base_uri": "https://localhost:8080/"
        },
        "id": "iXkhKVrMi8hH",
        "outputId": "ba77c530-95bc-4ec7-cbe2-ae837b687536"
      },
      "execution_count": 128,
      "outputs": [
        {
          "output_type": "execute_result",
          "data": {
            "text/plain": [
              "[1, 2, 3, 4, 5]"
            ]
          },
          "metadata": {},
          "execution_count": 128
        }
      ]
    },
    {
      "cell_type": "code",
      "source": [
        "# 7. Write a code to append the number 10 to the list [1, 2, 3, 4]\n",
        "list=[1,2,3,4]\n",
        "list.append(10)\n",
        "list\n"
      ],
      "metadata": {
        "colab": {
          "base_uri": "https://localhost:8080/"
        },
        "id": "2rZB4LIUjIjn",
        "outputId": "a32c1faf-2797-4a49-ac9c-a8fcbc512b65"
      },
      "execution_count": 102,
      "outputs": [
        {
          "output_type": "execute_result",
          "data": {
            "text/plain": [
              "[1, 2, 3, 4, 10]"
            ]
          },
          "metadata": {},
          "execution_count": 102
        }
      ]
    },
    {
      "cell_type": "code",
      "source": [
        "# 8. Write a code to remove the number 3 from the list [1, 2, 3, 4, 5]\n",
        "list=[1,2,3,4,5]\n",
        "list.remove(3)\n",
        "list"
      ],
      "metadata": {
        "colab": {
          "base_uri": "https://localhost:8080/"
        },
        "id": "A96zm42vjr2J",
        "outputId": "dae3ba7e-8b26-4bdc-82f1-e5c8e8cc5861"
      },
      "execution_count": 100,
      "outputs": [
        {
          "output_type": "execute_result",
          "data": {
            "text/plain": [
              "[1, 2, 4, 5]"
            ]
          },
          "metadata": {},
          "execution_count": 100
        }
      ]
    },
    {
      "cell_type": "code",
      "source": [
        "#9. Write a code to access the second element in the list ['a', 'b', 'c', 'd']\n",
        "list=['a','b','c','d']\n",
        "list[1]"
      ],
      "metadata": {
        "colab": {
          "base_uri": "https://localhost:8080/",
          "height": 35
        },
        "id": "zUGacqJAjnl4",
        "outputId": "4803f332-de11-4d21-e935-13fe6464fc1c"
      },
      "execution_count": 101,
      "outputs": [
        {
          "output_type": "execute_result",
          "data": {
            "text/plain": [
              "'b'"
            ],
            "application/vnd.google.colaboratory.intrinsic+json": {
              "type": "string"
            }
          },
          "metadata": {},
          "execution_count": 101
        }
      ]
    },
    {
      "cell_type": "code",
      "source": [
        "#10. Write a code to reverse the list [10, 20, 30, 40, 50]\n",
        "list=[10,20,30,40,50]\n",
        "list.reverse()\n",
        "list"
      ],
      "metadata": {
        "colab": {
          "base_uri": "https://localhost:8080/"
        },
        "id": "3LI9xZwTj7he",
        "outputId": "73ae390a-5af5-4696-eb85-3bfd91bea75c"
      },
      "execution_count": 103,
      "outputs": [
        {
          "output_type": "execute_result",
          "data": {
            "text/plain": [
              "[50, 40, 30, 20, 10]"
            ]
          },
          "metadata": {},
          "execution_count": 103
        }
      ]
    },
    {
      "cell_type": "code",
      "source": [
        "#11.Write a code to create a tuple with the elements 100, 200, 300 and print it.\n",
        "tup=(100,200,300)\n",
        "tup"
      ],
      "metadata": {
        "colab": {
          "base_uri": "https://localhost:8080/"
        },
        "id": "Jp7h-lspkCKB",
        "outputId": "6ebd4819-5a78-40fb-f185-2050e8ea900a"
      },
      "execution_count": 104,
      "outputs": [
        {
          "output_type": "execute_result",
          "data": {
            "text/plain": [
              "(100, 200, 300)"
            ]
          },
          "metadata": {},
          "execution_count": 104
        }
      ]
    },
    {
      "cell_type": "code",
      "source": [
        "#12.Write a code to access the second-to-last element of the tuple ('red', 'green', 'blue', 'yellow')\n",
        "tup=('red','green','blue','yellow')\n",
        "tup[2]"
      ],
      "metadata": {
        "colab": {
          "base_uri": "https://localhost:8080/",
          "height": 35
        },
        "id": "nwnsesvdkPdW",
        "outputId": "20a6fc45-459f-4816-d88a-a70947906b25"
      },
      "execution_count": 105,
      "outputs": [
        {
          "output_type": "execute_result",
          "data": {
            "text/plain": [
              "'blue'"
            ],
            "application/vnd.google.colaboratory.intrinsic+json": {
              "type": "string"
            }
          },
          "metadata": {},
          "execution_count": 105
        }
      ]
    },
    {
      "cell_type": "code",
      "source": [
        "# 13. Write a code to find the minimum number in the tuple (10, 20, 5, 15).\n",
        "tuple=(10, 20, 5, 15)\n",
        "min(tuple)"
      ],
      "metadata": {
        "colab": {
          "base_uri": "https://localhost:8080/"
        },
        "id": "ow2hBZEskcNN",
        "outputId": "7516fb99-538b-46a6-ab24-3d8eca6061a2"
      },
      "execution_count": 106,
      "outputs": [
        {
          "output_type": "execute_result",
          "data": {
            "text/plain": [
              "5"
            ]
          },
          "metadata": {},
          "execution_count": 106
        }
      ]
    },
    {
      "cell_type": "code",
      "source": [
        "# 14. Write a code to find the index of the element \"cat\" in the tuple ('dog', 'cat', 'rabbit').\n",
        "tu=('dog','cat','rabbit')\n",
        "tu.index('cat')"
      ],
      "metadata": {
        "colab": {
          "base_uri": "https://localhost:8080/"
        },
        "id": "ixyXijnKkw4i",
        "outputId": "37444c05-0ea6-46a5-fac5-24beb49fd892"
      },
      "execution_count": 107,
      "outputs": [
        {
          "output_type": "execute_result",
          "data": {
            "text/plain": [
              "1"
            ]
          },
          "metadata": {},
          "execution_count": 107
        }
      ]
    },
    {
      "cell_type": "code",
      "source": [
        "#  15. Write a code to create a tuple containing three different fruits and check if \"kiwi\" is in it\n",
        "tu=('apple','banana','kiwi')\n",
        "'kiwi' in tu"
      ],
      "metadata": {
        "colab": {
          "base_uri": "https://localhost:8080/"
        },
        "id": "AnEfsr7Yk7vM",
        "outputId": "a3ee6735-3560-4766-e816-ff66d99005c3"
      },
      "execution_count": 108,
      "outputs": [
        {
          "output_type": "execute_result",
          "data": {
            "text/plain": [
              "True"
            ]
          },
          "metadata": {},
          "execution_count": 108
        }
      ]
    },
    {
      "cell_type": "code",
      "source": [
        "#  16. Write a code to create a set with the elements 'a', 'b', 'c' and print it\n",
        "se={'a','b','c'}\n",
        "se"
      ],
      "metadata": {
        "colab": {
          "base_uri": "https://localhost:8080/"
        },
        "id": "e5ghSz5jkmHg",
        "outputId": "1e95a91f-641e-4347-9a57-6dc904f8a76d"
      },
      "execution_count": 109,
      "outputs": [
        {
          "output_type": "execute_result",
          "data": {
            "text/plain": [
              "{'a', 'b', 'c'}"
            ]
          },
          "metadata": {},
          "execution_count": 109
        }
      ]
    },
    {
      "cell_type": "code",
      "source": [
        "# 17. Write a code to clear all elements from the set {1, 2, 3, 4, 5}.\n",
        "se={1,2,3,4,5}\n",
        "se.clear()\n",
        "se"
      ],
      "metadata": {
        "colab": {
          "base_uri": "https://localhost:8080/"
        },
        "id": "HpDIodh-lLlt",
        "outputId": "f8cf2f27-2239-469f-fa78-434607f6128c"
      },
      "execution_count": 110,
      "outputs": [
        {
          "output_type": "execute_result",
          "data": {
            "text/plain": [
              "set()"
            ]
          },
          "metadata": {},
          "execution_count": 110
        }
      ]
    },
    {
      "cell_type": "code",
      "source": [
        "#18.Write a code to remove the element 4 from the set {1, 2, 3, 4}.\n",
        "se={1,2,3,4}\n",
        "se.remove(4)\n",
        "se"
      ],
      "metadata": {
        "colab": {
          "base_uri": "https://localhost:8080/"
        },
        "id": "sUZaiiD6lUZl",
        "outputId": "18eb5671-be4c-4771-a1ae-0c99564c7472"
      },
      "execution_count": 111,
      "outputs": [
        {
          "output_type": "execute_result",
          "data": {
            "text/plain": [
              "{1, 2, 3}"
            ]
          },
          "metadata": {},
          "execution_count": 111
        }
      ]
    },
    {
      "cell_type": "code",
      "source": [
        "#19.Write a code to find the union of two sets {1, 2, 3} and {3, 4, 5}.\n",
        "s1={1,2,3}\n",
        "s2={3,4,5}\n",
        "s1.union(s2)"
      ],
      "metadata": {
        "colab": {
          "base_uri": "https://localhost:8080/"
        },
        "id": "78UnIxAnlbJD",
        "outputId": "6c46858f-9686-46b8-ef0f-bfbbbac74d73"
      },
      "execution_count": 112,
      "outputs": [
        {
          "output_type": "execute_result",
          "data": {
            "text/plain": [
              "{1, 2, 3, 4, 5}"
            ]
          },
          "metadata": {},
          "execution_count": 112
        }
      ]
    },
    {
      "cell_type": "code",
      "source": [
        "# 20. Write a code to find the intersection of two sets {1, 2, 3} and {2, 3, 4}.\n",
        "s1={1,2,3}\n",
        "s2={2,3,4}\n",
        "s1.intersection(s2)"
      ],
      "metadata": {
        "colab": {
          "base_uri": "https://localhost:8080/"
        },
        "id": "mO8_SeG5lkbd",
        "outputId": "610a5c64-f22e-498d-8e60-9e210cfa28af"
      },
      "execution_count": 113,
      "outputs": [
        {
          "output_type": "execute_result",
          "data": {
            "text/plain": [
              "{2, 3}"
            ]
          },
          "metadata": {},
          "execution_count": 113
        }
      ]
    },
    {
      "cell_type": "code",
      "source": [
        "#  21. Write a code to create a dictionary with the keys \"name\", \"age\", and \"city\", and print it.\n",
        "dict={'name':'bhavsagar','age':20,'city':'jalandhar'}\n",
        "dict"
      ],
      "metadata": {
        "colab": {
          "base_uri": "https://localhost:8080/"
        },
        "id": "XP5jMVzllwHp",
        "outputId": "e1e87597-86b1-44ad-ae5a-4c6c51aab2a6"
      },
      "execution_count": 114,
      "outputs": [
        {
          "output_type": "execute_result",
          "data": {
            "text/plain": [
              "{'name': 'bhavsagar', 'age': 20, 'city': 'jalandhar'}"
            ]
          },
          "metadata": {},
          "execution_count": 114
        }
      ]
    },
    {
      "cell_type": "code",
      "source": [
        "#22. Write a code to add a new key-value pair \"country\": \"USA\" to the dictionary {'name': 'John', 'age': 25}\n",
        "dict={'name':'John','age':25}\n",
        "dict['country']='USA'\n",
        "dict"
      ],
      "metadata": {
        "colab": {
          "base_uri": "https://localhost:8080/"
        },
        "id": "bk4-0vrxmHtu",
        "outputId": "bf597b2b-4ce4-4962-89c0-5165c2f0fdbc"
      },
      "execution_count": 115,
      "outputs": [
        {
          "output_type": "execute_result",
          "data": {
            "text/plain": [
              "{'name': 'John', 'age': 25, 'country': 'USA'}"
            ]
          },
          "metadata": {},
          "execution_count": 115
        }
      ]
    },
    {
      "cell_type": "code",
      "source": [
        "# 23. Write a code to access the value associated with the key \"name\" in the dictionary {'name': 'Alice', 'age': 30}.\n",
        "dict={'name': 'Alice', 'age': 30}\n",
        "dict['name']"
      ],
      "metadata": {
        "colab": {
          "base_uri": "https://localhost:8080/",
          "height": 35
        },
        "id": "cP0oApXXmaAd",
        "outputId": "83432790-0a4c-4f66-edeb-990de14c105a"
      },
      "execution_count": 116,
      "outputs": [
        {
          "output_type": "execute_result",
          "data": {
            "text/plain": [
              "'Alice'"
            ],
            "application/vnd.google.colaboratory.intrinsic+json": {
              "type": "string"
            }
          },
          "metadata": {},
          "execution_count": 116
        }
      ]
    },
    {
      "cell_type": "code",
      "source": [
        "#24. 24. Write a code to remove the key \"age\" from the dictionary {'name': 'Bob', 'age': 22, 'city': 'New York'}.\n",
        "dict={'name': 'Bob', 'age': 22, 'city': 'New York'}\n",
        "dict.pop('age')\n",
        "dict"
      ],
      "metadata": {
        "colab": {
          "base_uri": "https://localhost:8080/"
        },
        "id": "Key_rZO8mkXs",
        "outputId": "9bb20a08-aa87-4f0b-bd26-039129b4621c"
      },
      "execution_count": 117,
      "outputs": [
        {
          "output_type": "execute_result",
          "data": {
            "text/plain": [
              "{'name': 'Bob', 'city': 'New York'}"
            ]
          },
          "metadata": {},
          "execution_count": 117
        }
      ]
    },
    {
      "cell_type": "code",
      "source": [
        "#  25. Write a code to check if the key \"city\" exists in the dictionary {'name': 'Alice', 'city': 'Paris'}.\n",
        "dict={'name': 'Alice', 'city': 'Paris'}\n",
        "\"city\" in dict\n"
      ],
      "metadata": {
        "colab": {
          "base_uri": "https://localhost:8080/"
        },
        "id": "Zqo7xeuvm1ze",
        "outputId": "ce8162e4-c8bf-4c40-e52c-35cc6dcfed8a"
      },
      "execution_count": 118,
      "outputs": [
        {
          "output_type": "execute_result",
          "data": {
            "text/plain": [
              "True"
            ]
          },
          "metadata": {},
          "execution_count": 118
        }
      ]
    },
    {
      "cell_type": "code",
      "source": [
        "#26. 26. Write a code to create a list, a tuple, and a dictionary, and print them all.\n",
        "list=[1,2,3,4]\n",
        "tup=(1,2,3,4)\n",
        "dict={'name':'bhavsagar','age':20,'city':'jalandhar'}\n",
        "print(\"list:\",list)\n",
        "print(\"tuple:\",tup)\n",
        "print(\"dictionary:\",dict)"
      ],
      "metadata": {
        "colab": {
          "base_uri": "https://localhost:8080/"
        },
        "id": "StuPY2kFnQiF",
        "outputId": "063d79e4-e271-4140-ba97-55c607269bad"
      },
      "execution_count": 119,
      "outputs": [
        {
          "output_type": "stream",
          "name": "stdout",
          "text": [
            "list: [1, 2, 3, 4]\n",
            "tuple: (1, 2, 3, 4)\n",
            "dictionary: {'name': 'bhavsagar', 'age': 20, 'city': 'jalandhar'}\n"
          ]
        }
      ]
    },
    {
      "cell_type": "code",
      "source": [
        "#27.Write a code to create a list of 5 random numbers between 1 and 100, sort it in ascending order, and print the result(replaced).\n",
        "import random\n",
        "num=[random.randint(1,100)  for i in range(5)]\n",
        "print(num)\n",
        "num.sort()\n",
        "print(num)\n",
        "\n"
      ],
      "metadata": {
        "colab": {
          "base_uri": "https://localhost:8080/"
        },
        "id": "UetDiJXMni3y",
        "outputId": "4286c548-90ed-491e-d7f3-b45713080ddf"
      },
      "execution_count": 120,
      "outputs": [
        {
          "output_type": "stream",
          "name": "stdout",
          "text": [
            "[37, 84, 25, 29, 51]\n",
            "[25, 29, 37, 51, 84]\n"
          ]
        }
      ]
    },
    {
      "cell_type": "code",
      "source": [
        "# 28. Write a code to create a list with strings and print the element at the third index.\n",
        "list=[\"apple\",'banana','kiwi','orange']\n",
        "list[2]"
      ],
      "metadata": {
        "colab": {
          "base_uri": "https://localhost:8080/",
          "height": 35
        },
        "id": "ca07eVR5o-uQ",
        "outputId": "10dc8c9c-0678-4860-a590-c07ff1a015d8"
      },
      "execution_count": 121,
      "outputs": [
        {
          "output_type": "execute_result",
          "data": {
            "text/plain": [
              "'kiwi'"
            ],
            "application/vnd.google.colaboratory.intrinsic+json": {
              "type": "string"
            }
          },
          "metadata": {},
          "execution_count": 121
        }
      ]
    },
    {
      "cell_type": "code",
      "source": [
        "# 29. Write a code to combine two dictionaries into one and print the result.\n",
        "dict1={1:'a',2:'b'}\n",
        "dict2={3:'c',4:'d'}\n",
        "dict3=dict1 | dict2\n",
        "dict3"
      ],
      "metadata": {
        "colab": {
          "base_uri": "https://localhost:8080/"
        },
        "id": "fXnx9o7qqIpc",
        "outputId": "e89f6718-f656-470f-8ac9-5d182306e124"
      },
      "execution_count": 122,
      "outputs": [
        {
          "output_type": "execute_result",
          "data": {
            "text/plain": [
              "{1: 'a', 2: 'b', 3: 'c', 4: 'd'}"
            ]
          },
          "metadata": {},
          "execution_count": 122
        }
      ]
    },
    {
      "cell_type": "code",
      "source": [
        "#  30. Write a code to convert a list of strings into a set.\n",
        "lis=['apple','banana','kiwi']\n",
        "set(lis)"
      ],
      "metadata": {
        "colab": {
          "base_uri": "https://localhost:8080/"
        },
        "id": "m3-QoCkSqVw2",
        "outputId": "869b44eb-8e67-407d-852f-923ba5739722"
      },
      "execution_count": 123,
      "outputs": [
        {
          "output_type": "execute_result",
          "data": {
            "text/plain": [
              "{'apple', 'banana', 'kiwi'}"
            ]
          },
          "metadata": {},
          "execution_count": 123
        }
      ]
    }
  ]
}