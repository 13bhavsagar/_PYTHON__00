{
  "nbformat": 4,
  "nbformat_minor": 0,
  "metadata": {
    "colab": {
      "provenance": []
    },
    "kernelspec": {
      "name": "python3",
      "display_name": "Python 3"
    },
    "language_info": {
      "name": "python"
    }
  },
  "cells": [
    {
      "cell_type": "markdown",
      "source": [
        "#**THEORATICAL QUESTIONS**"
      ],
      "metadata": {
        "id": "IIfu7Z6RNyY9"
      }
    },
    {
      "cell_type": "markdown",
      "source": [
        "1.What is the difference between interpreted and compiled languages?\n",
        ">Interpreted languages run code line-by-line using an interpreter at runtime.\n",
        "\n",
        ">Compiled languages are translated into machine code before execution using a compiler.\n",
        "\n",
        ">Interpreted languages (e.g., Python, JavaScript) are easier to debug and more flexible.\n",
        "\n",
        ">Compiled languages (e.g., C, C++) are faster and more efficient for performance-critical tasks.\n",
        "\n",
        "2.What is exception handling in Python?\n",
        ">Exception handling in Python is a way to manage errors that occur during program execution without crashing the program. It uses the try, except, else, and finally blocks to catch and handle exceptions.\n",
        "\n",
        "3.What is the purpose of the finally block in exception handling?\n",
        ">The purpose of the finally block in exception handling is to execute code no matter what—whether an exception occurred or not.It is typically used to release resources like closing files, network connections, or cleaning up tasks\n",
        "\n",
        "4.What is logging in Python?\n",
        ">Logging in Python is the process of recording messages about a program’s execution, which helps in debugging, monitoring, and tracking errors.Instead of using print(), Python’s logging module provides more control over what gets logged, where, and at what level.\n",
        "\n",
        "5.What is the significance of the __del__ method in Python?\n",
        ">The __del__ method in Python is a destructor method that is called when an object is about to be destroyed (i.e., when it is garbage collected).\n",
        "\n",
        "6.What is the difference between import and from ... import in Python?\n",
        ">import module imports the entire module, and you access its contents using the module name.\n",
        "\n",
        ">from module import name imports specific parts (like functions or classes) directly, so you can use them without the module prefix.\n",
        "\n",
        "7.How can you handle multiple exceptions in Python?\n",
        ">In Python, multiple exceptions can be handled in two main ways:\n",
        "\n",
        ">Using multiple except blocks:\n",
        "Each exception type is caught and handled in a separate except block. This allows different actions for different exceptions.\n",
        "\n",
        ">Using a single except block with a tuple of exceptions:\n",
        "Multiple exception types can be grouped in a tuple and handled by the same block, useful when the same response is needed for different errors.\n",
        "\n",
        "8.What is the purpose of the with statement when handling files in Python?\n",
        ">The purpose of the with statement when handling files in Python is to automatically manage resources, especially opening and closing files.It ensures that the file is properly closed, even if an exception occurs during file operations. This makes the code cleaner, safer, and more efficient.It simplifies file handling by eliminating the need to explicitly call file.close().\n",
        "\n",
        "9.What is the difference between multithreading and multiprocessing?\n",
        ">Multithreading involves multiple threads within a single process sharing the same memory space. It is best for I/O-bound tasks (like reading files or network operations).\n",
        "\n",
        ">Multiprocessing involves multiple independent processes, each with its own memory space. It is ideal for CPU-bound tasks (like complex calculations).\n",
        "\n",
        "10.What are the advantages of using logging in a program?\n",
        ">Better Debugging: Logs provide valuable insights into the flow of execution, helping to identify errors or unexpected behaviors.\n",
        "\n",
        ">Persistent Records: Logs offer a way to store a permanent record of events, which can be reviewed later for analysis or troubleshooting.\n",
        "\n",
        ">Customizable Log Levels: With logging, you can specify different log levels (e.g., DEBUG, INFO, WARNING, ERROR, CRITICAL), allowing you to control the verbosity of messages.\n",
        "\n",
        ">Non-intrusive: Unlike using print statements, logging allows for easy tracking without affecting the main program flow.\n",
        "\n",
        ">Can Log to Multiple Destinations: Logs can be directed to files, databases, or even remote servers, providing flexibility in where and how they are stored.\n",
        "\n",
        ">Improved Monitoring: In production environments, logging helps monitor the health and performance of the system in real-time.\n",
        "\n",
        "11.What is memory management in Python?\n",
        ">Memory management in Python refers to the process of managing the allocation and deallocation of memory for objects and data structures during the program's execution. Python handles memory management automatically, but\n",
        "it's essential to understand how it works.\n",
        "\n",
        "12.What are the basic steps involved in exception handling in Python?\n",
        ">try block:\n",
        "This is where you write the code that might cause an exception. The purpose of the try block is to attempt the execution of code that could potentially raise an error.\n",
        "\n",
        ">except block:\n",
        "When an exception occurs inside the try block, the except block is executed to handle that specific exception. You can have multiple except blocks to handle different types of exceptions.\n",
        "\n",
        ">else block (optional):\n",
        "The else block is executed if no exception is raised in the try block. It is useful for code that should only run when there is no error, ensuring that you only run the \"success\" logic after the try block completes without issues.\n",
        "\n",
        ">finally block (optional):\n",
        "The finally block is used for code that must always execute, whether an exception occurred or not. It is typically used for clean-up tasks like closing files or releasing resources, ensuring these tasks are completed regardless of errors.\n",
        "\n",
        "13.Why is memory management important in Python?\n",
        ">Memory management in Python is important because it ensures efficient use of resources, prevents memory leaks, optimizes performance, and manages object lifecycles. It allows automatic garbage collection, freeing up memory from unused objects, and ensures the program runs smoothly and scales well, especially for large applications.\n",
        "\n",
        "14.What is the role of try and except in exception handling?\n",
        ">try block:\n",
        "The try block is used to enclose the code that might raise an exception. The program attempts to execute the code inside the try block.\n",
        "\n",
        ">except block:\n",
        "If an exception occurs in the try block, the program moves to the except block. The except block is responsible for handling the exception, allowing the program to continue running without crashing.\n",
        "\n",
        "15.How does Python's garbage collection system work?\n",
        ">Python’s garbage collection system works by using reference counting to track object usage. When an object's reference count drops to zero, it is automatically deleted. Python also handles cyclic references (objects referring to each other) through cycle detection. It uses a generational approach, prioritizing younger objects for garbage collection. The system runs automatically, but developers can also manually trigger garbage collection using the gc module.\n",
        "\n",
        "16.What is the purpose of the else block in exception handling?\n",
        ">The purpose of the else block in exception handling is to define a block of code that should be executed only if no exception is raised in the try block. It is used to separate normal execution logic from error-handling logic.\n",
        "\n",
        "17.What are the common logging levels in Python?\n",
        "> DEBUG: Detailed information for debugging.\n",
        "\n",
        ">INFO: General information about the application.\n",
        "\n",
        ">WARNING: Non-critical issues that may need attention.\n",
        "\n",
        ">ERROR: Errors that affect functionality but not the whole system.\n",
        "\n",
        ">CRITICAL: Severe errors that may cause the program to stop.\n",
        "\n",
        "18.What is the difference between os.fork() and multiprocessing in Python?\n",
        ">os.fork(): A low-level, Unix-only function that creates a child process, sharing memory between parent and child.\n",
        "\n",
        ">multiprocessing: A high-level, cross-platform module that creates independent processes with separate memory, making it safer and easier to work with parallelism.\n",
        "\n",
        "19.What is the importance of closing a file in Python?\n",
        ">Closing a file in Python is important to release system resources, ensure data is saved properly, and prevent errors in future file operations. Using the with statement automatically handles this.\n",
        "\n",
        "20.What is the difference between file.read() and file.readline() in Python?\n",
        ">file.read() reads the entire file, while file.readline() reads one line at a time.\n",
        "\n",
        "21.What is the logging module in Python used for?\n",
        ">The logging module in Python is used for tracking and recording events, errors, and other information during program execution. It provides a flexible framework for writing log messages to different outputs (e.g., console, files) and categorizing them by severity (e.g., DEBUG, INFO, ERROR, CRITICAL).\n",
        "\n",
        "22.What is the os module in Python used for in file handling?\n",
        ">The os module in Python is used for interacting with the operating system, including file handling. It provides various functions to manage files and directories, such as:\n",
        "\n",
        ">Creating, removing, and renaming files and directories (os.mkdir(), os.remove(), os.rename(), etc.).\n",
        "\n",
        ">Navigating the file system (os.getcwd()).\n",
        "\n",
        ">hecking if a file or directory exists (os.path.exists()).\n",
        "\n",
        ">Listing files in a directory (os.listdir()).\n",
        "\n",
        ">Getting file information (os.path.getsize(), os.path.abspath()).\n",
        "\n",
        "23.What are the challenges associated with memory management in Python?\n",
        ">The challenges associated with memory management in Python include:\n",
        "\n",
        ">Memory Leaks:\n",
        "Even though Python has automatic garbage collection, circular references or objects with references that aren't cleared can still lead to memory leaks.\n",
        "\n",
        ">Limited Control Over Memory:\n",
        "Python abstracts memory management from the developer, making it harder to fine-tune or optimize memory usage compared to languages like C/C++.\n",
        "\n",
        ">Garbage Collection Overhead:\n",
        "Python’s garbage collector occasionally scans for unreferenced objects, which can introduce performance overhead, especially in memory-intensive applications.\n",
        "\n",
        ">High Memory Usage:\n",
        "Python’s dynamic typing and the overhead of its object model can lead to higher memory usage compared to lower-level languages.\n",
        "\n",
        ">Memory Fragmentation:\n",
        "As Python creates and destroys objects, memory fragmentation can occur, leading to inefficient memory usage.\n",
        "\n",
        "24.How do you raise an exception manually in Python?\n",
        ">You can raise an exception manually in Python using the raise keyword followed by the exception you want to raise.\n",
        "\n",
        "25.Why is it important to use multithreading in certain applications?\n",
        ">Multithreading improves performance, resource utilization, and responsiveness by allowing concurrent execution of tasks, especially in I/O-bound or real-time applications."
      ],
      "metadata": {
        "id": "Lz5tQu-E9f-x"
      }
    },
    {
      "cell_type": "markdown",
      "source": [
        "#**PRACTICAL QUESTIONS**"
      ],
      "metadata": {
        "id": "VvewsOeeEVJE"
      }
    },
    {
      "cell_type": "code",
      "source": [
        "#1. How can you open a file for writing in Python and write a string to it?\n",
        "\n",
        "file=open('file1.txt','w')\n",
        "file.write('hello my name is bhavsagar\\n')\n",
        "file.write('i am 20 years old\\n')\n",
        "file.write('this is the assisgnment of files,exceptional handling,logging and memmory management module\\n')\n",
        "file.write('this is the  last line \\n')\n",
        "file.close()\n"
      ],
      "metadata": {
        "id": "5kTaa3eKEcNU"
      },
      "execution_count": 44,
      "outputs": []
    },
    {
      "cell_type": "code",
      "source": [
        "#2.Write a Python program to read the contents of a file and print each line.\n",
        "\n",
        "file2=open('file1.txt','r')\n",
        "print(file2.read())\n",
        "file.close()\n",
        "\n"
      ],
      "metadata": {
        "colab": {
          "base_uri": "https://localhost:8080/"
        },
        "id": "5obSjeApEyRt",
        "outputId": "6d41ff65-e6c9-45bb-914a-ac8729be0acf"
      },
      "execution_count": 45,
      "outputs": [
        {
          "output_type": "stream",
          "name": "stdout",
          "text": [
            "hello my name is bhavsagar\n",
            "i am 20 years old\n",
            "this is the assisgnment of files,exceptional handling,logging and memmory management module\n",
            "this is the  last line \n",
            "\n"
          ]
        }
      ]
    },
    {
      "cell_type": "code",
      "source": [
        "#3.How would you handle a case where the file doesn't exist while trying to open it for reading?\n",
        "try:\n",
        "    f=open('file333.txt','r')\n",
        "except FileNotFoundError as e:\n",
        "    print(e)\n",
        "else:\n",
        "    print('file opened sucessfully')"
      ],
      "metadata": {
        "colab": {
          "base_uri": "https://localhost:8080/"
        },
        "id": "Tlp_7pdRFCH6",
        "outputId": "62b16f2a-5058-4c62-f400-eb7f333739b3"
      },
      "execution_count": 46,
      "outputs": [
        {
          "output_type": "stream",
          "name": "stdout",
          "text": [
            "[Errno 2] No such file or directory: 'file333.txt'\n"
          ]
        }
      ]
    },
    {
      "cell_type": "code",
      "source": [
        "#4. Write a Python script that reads from one file and writes its content to another file?\n",
        "f1=open('file3.txt','w')\n",
        "f2=open('file1.txt','r')\n",
        "f1.write(f2.read())\n",
        "f1.close()\n",
        "f2.close()\n"
      ],
      "metadata": {
        "id": "_UQWAXMdFM_L"
      },
      "execution_count": 47,
      "outputs": []
    },
    {
      "cell_type": "code",
      "source": [
        "#5 How would you catch and handle division by zero error in Python?\n",
        "try:\n",
        "    num=int(input('enter numerator'))\n",
        "    deno=int(input('enter denomenator'))\n",
        "    re=num/deno\n",
        "    print(re)\n",
        "\n",
        "except ZeroDivisionError as e:\n",
        "    print('error:',e)\n"
      ],
      "metadata": {
        "colab": {
          "base_uri": "https://localhost:8080/"
        },
        "id": "_hk41DsWFX9V",
        "outputId": "4c62a8cd-452d-421b-ce3e-71a0ddb52698"
      },
      "execution_count": 49,
      "outputs": [
        {
          "output_type": "stream",
          "name": "stdout",
          "text": [
            "enter numerator20\n",
            "enter denomenator0\n",
            "error: division by zero\n"
          ]
        }
      ]
    },
    {
      "cell_type": "code",
      "source": [
        "#6. Write a Python program that logs an error message to a log file when a division by zero exception occurs?\n",
        "import logging\n",
        "\n",
        "logging.basicConfig(\n",
        "    filename='zero.log',\n",
        "    level=logging.ERROR,\n",
        "    format='%(asctime)s - %(levelname)s - %(message)s'\n",
        ")\n",
        "\n",
        "try:\n",
        "    num = int(input('Enter numerator: '))\n",
        "    deno = int(input('Enter denominator: '))\n",
        "    re = num / deno\n",
        "    print(re)\n",
        "\n",
        "except ZeroDivisionError as e:\n",
        "    print('Error:', e)\n",
        "    logging.error(f\"Division by zero error occurred: {e}\")\n",
        "\n",
        "logging.shutdown()\n",
        "\n",
        "\n",
        "\n",
        "\n"
      ],
      "metadata": {
        "id": "KuaGwnqbFgLH",
        "colab": {
          "base_uri": "https://localhost:8080/"
        },
        "outputId": "f3b1aa1d-5d84-4e04-e561-455388774902"
      },
      "execution_count": 71,
      "outputs": [
        {
          "name": "stdout",
          "output_type": "stream",
          "text": [
            "Enter numerator: 20\n",
            "Enter denominator: 0\n"
          ]
        },
        {
          "output_type": "stream",
          "name": "stderr",
          "text": [
            "ERROR:root:Division by zero error occurred: division by zero\n"
          ]
        },
        {
          "output_type": "stream",
          "name": "stdout",
          "text": [
            "Error: division by zero\n"
          ]
        }
      ]
    },
    {
      "cell_type": "code",
      "source": [
        "#7.How do you log information at different levels (INFO, ERROR, WARNING) in Python using the logging module?\n",
        "import logging\n",
        "logging.basicConfig(filename='error2.log',level=logging.INFO,format='%(asctime)s- %(levelname)s - %(message)s')\n",
        "logging.info('this is the discription of the program ')\n",
        "logging.error('this is the infromation about error')\n",
        "logging.warning('this is the warninig block')\n",
        "logging.shutdown()"
      ],
      "metadata": {
        "id": "s-IMpjEwFz8o",
        "colab": {
          "base_uri": "https://localhost:8080/"
        },
        "outputId": "d846c2d5-4d17-4f0d-9119-de25095853c0"
      },
      "execution_count": 51,
      "outputs": [
        {
          "output_type": "stream",
          "name": "stderr",
          "text": [
            "ERROR:root:this is the infromation about error\n",
            "WARNING:root:this is the warninig block\n"
          ]
        }
      ]
    },
    {
      "cell_type": "code",
      "source": [
        "#8.Write a program to handle a file opening error using exception handling?\n",
        "try:\n",
        "    file=open('abc.txt','r')\n",
        "    print(f.read())\n",
        "    f.close()\n",
        "except FileNotFoundError as e:\n",
        "    print(e)\n",
        "except Exception as  e:\n",
        "    print('An unxpected error occurred',e)\n"
      ],
      "metadata": {
        "colab": {
          "base_uri": "https://localhost:8080/"
        },
        "id": "oFbTUpxMG5Tf",
        "outputId": "c2290691-813b-47f5-a726-1be2fa8ed310"
      },
      "execution_count": 52,
      "outputs": [
        {
          "output_type": "stream",
          "name": "stdout",
          "text": [
            "[Errno 2] No such file or directory: 'abc.txt'\n"
          ]
        }
      ]
    },
    {
      "cell_type": "code",
      "source": [
        "#9.How can you read a file line by line and store its content in a list in Python?\n",
        "file=open('file1.txt','r')\n",
        "data=file.readlines()\n",
        "print(data)\n",
        "file.close()"
      ],
      "metadata": {
        "colab": {
          "base_uri": "https://localhost:8080/"
        },
        "id": "GpgiBxuOHEbM",
        "outputId": "64b8b456-63da-419b-d518-33df9369d057"
      },
      "execution_count": 53,
      "outputs": [
        {
          "output_type": "stream",
          "name": "stdout",
          "text": [
            "['hello my name is bhavsagar\\n', 'i am 20 years old\\n', 'this is the assisgnment of files,exceptional handling,logging and memmory management module\\n', 'this is the  last line \\n']\n"
          ]
        }
      ]
    },
    {
      "cell_type": "code",
      "source": [
        "#10. How can you append data to an existing file in Python?\n",
        "file=open('file1.txt','a')\n",
        "file.write('In response to this, planning researchers have settled on a factored representation\\n')\n",
        "file.write('We use a language called PDDL, the Planning Domain Definition')\n",
        "file.close()"
      ],
      "metadata": {
        "id": "Bnn9biV7HQNk"
      },
      "execution_count": 54,
      "outputs": []
    },
    {
      "cell_type": "code",
      "source": [
        "#11.Write a Python program that uses a try-except block to handle an error when attempting to access a dictionary key that doesn't exist\n",
        "try:\n",
        "    d={'name':'bahvsagar',\n",
        "       'age':20}\n",
        "    d['address']\n",
        "except KeyError as e:\n",
        "    print(f' key:{e} does not exist in the dictionary')\n",
        ""
      ],
      "metadata": {
        "colab": {
          "base_uri": "https://localhost:8080/"
        },
        "id": "rlJk2u5YHYWr",
        "outputId": "a31691c0-fb64-4da7-bbf1-f9290eba380d"
      },
      "execution_count": 55,
      "outputs": [
        {
          "output_type": "stream",
          "name": "stdout",
          "text": [
            " key:'address' does not exist in the dictionary\n"
          ]
        }
      ]
    },
    {
      "cell_type": "code",
      "source": [
        "#!2. Write a program that demonstrates using multiple except blocks to handle different types of exceptions\n",
        "try:\n",
        "    num=int(input('enter numerator'))\n",
        "    deno=int(input('enter denomenator'))\n",
        "    re=num/deno\n",
        "    print(re)\n",
        "\n",
        "except ZeroDivisionError as e:\n",
        "    print('error:',e)\n",
        "\n",
        "except  ValueError as e:\n",
        "    print('error:',e)"
      ],
      "metadata": {
        "colab": {
          "base_uri": "https://localhost:8080/"
        },
        "id": "dIpLHUi6HoCQ",
        "outputId": "2066e7f6-06c4-4a43-b578-68a2177dbf6f"
      },
      "execution_count": 56,
      "outputs": [
        {
          "output_type": "stream",
          "name": "stdout",
          "text": [
            "enter numerator20\n",
            "enter denomenatorb\n",
            "error: invalid literal for int() with base 10: 'b'\n"
          ]
        }
      ]
    },
    {
      "cell_type": "code",
      "source": [
        "#13.How would you check if a file exists before attempting to read it in Python?\n",
        "import os\n",
        "file_name=input(\"enter the file name\")\n",
        "if os.path.exists(file_name):\n",
        "    with open(file_name,'r') as f:\n",
        "        data=f.read()\n",
        "        print(data)\n",
        "else :\n",
        "    print('file does not exist')\n"
      ],
      "metadata": {
        "colab": {
          "base_uri": "https://localhost:8080/"
        },
        "id": "Juani-0FHxbz",
        "outputId": "b160c85b-87d6-4802-d031-b6245bbf068d"
      },
      "execution_count": 57,
      "outputs": [
        {
          "output_type": "stream",
          "name": "stdout",
          "text": [
            "enter the file namefile333.txt\n",
            "file does not exist\n"
          ]
        }
      ]
    },
    {
      "cell_type": "code",
      "source": [
        "#14. Write a program that uses the logging module to log both informational and error messages?\n",
        "import logging\n",
        "logging.basicConfig(filename='error4.log',level=logging.DEBUG,format='%(asctime)s - %(levelname)s - %(message)s')\n",
        "try:\n",
        "    num1=int(input('enter number 1:'))\n",
        "    num2=int(input('enter number 2:'))\n",
        "    res=num1/num2\n",
        "    print(res)\n",
        "    logging.info(\"divison sucessful\")\n",
        "except ZeroDivisionError as e:\n",
        "    print(\"Cannot divide by zero!\")\n",
        "    logging.error(f\"ZeroDivisionError: {e}\")\n",
        "\n",
        "except ValueError as e:\n",
        "    print(\"Invalid input! Please enter numbers only.\")\n",
        "    logging.error(f\"ValueError: {e}\")\n"
      ],
      "metadata": {
        "colab": {
          "base_uri": "https://localhost:8080/"
        },
        "id": "_c3wkjfXH9h2",
        "outputId": "36492204-cbb5-42b2-cf10-b62f51d9a413"
      },
      "execution_count": 58,
      "outputs": [
        {
          "name": "stdout",
          "output_type": "stream",
          "text": [
            "enter number 1:10\n",
            "enter number 2:b\n"
          ]
        },
        {
          "output_type": "stream",
          "name": "stderr",
          "text": [
            "ERROR:root:ValueError: invalid literal for int() with base 10: 'b'\n"
          ]
        },
        {
          "output_type": "stream",
          "name": "stdout",
          "text": [
            "Invalid input! Please enter numbers only.\n"
          ]
        }
      ]
    },
    {
      "cell_type": "code",
      "source": [
        "#15.Write a Python program that prints the content of a file and handles the case when the file is empty\n",
        "import os\n",
        "try:\n",
        "    file_name=input(\"enter the file name\")\n",
        "    if os.path.getsize(file_name)==0:\n",
        "        print('file is empty')\n",
        "    else:\n",
        "        with open(file_name,'r') as f:\n",
        "            data=f.read()\n",
        "            print(data)\n",
        "except FileNotFoundError as e:\n",
        "    print('file does not exist')"
      ],
      "metadata": {
        "colab": {
          "base_uri": "https://localhost:8080/"
        },
        "id": "u38W4ywUISVM",
        "outputId": "77464ba9-81a0-4523-f697-2fae632dd686"
      },
      "execution_count": 59,
      "outputs": [
        {
          "output_type": "stream",
          "name": "stdout",
          "text": [
            "enter the file namefile2.txt\n",
            "file is empty\n"
          ]
        }
      ]
    },
    {
      "cell_type": "code",
      "source": [
        "! pip install memory-profiler\n"
      ],
      "metadata": {
        "id": "YjM2k1tQJgXc"
      },
      "execution_count": null,
      "outputs": []
    },
    {
      "cell_type": "code",
      "source": [
        "#16. Demonstrate how to use memory profiling to check the memory usage of a small program\n",
        "\n",
        "%load_ext memory_profiler\n",
        "\n",
        "\n",
        "def create_list():\n",
        "    a = [i for i in range(1000000)]\n",
        "    b = [i*2 for i in range(1000000)]\n",
        "    return a, b\n",
        "\n",
        "\n",
        "%memit create_list()\n"
      ],
      "metadata": {
        "colab": {
          "base_uri": "https://localhost:8080/"
        },
        "id": "btgw8sFQJO4x",
        "outputId": "407a7bc7-f2e4-4ea5-a3c5-c7ed528b6325"
      },
      "execution_count": 60,
      "outputs": [
        {
          "output_type": "stream",
          "name": "stdout",
          "text": [
            "The memory_profiler extension is already loaded. To reload it, use:\n",
            "  %reload_ext memory_profiler\n",
            "peak memory: 180.09 MiB, increment: 60.07 MiB\n"
          ]
        }
      ]
    },
    {
      "cell_type": "code",
      "source": [
        "#17. Write a Python program to create and write a list of numbers to a file, one number per line?\n",
        "l=[1,2,3,4,5,6,7]\n",
        "file=open('file5.txt','w')\n",
        "for i in l:\n",
        "    file.write(f\"{str(i)}\\n\")\n",
        "file.close()\n",
        "\n",
        "with open('file5.txt','r') as f:\n",
        "    data=f.read()\n",
        "    print(data)"
      ],
      "metadata": {
        "colab": {
          "base_uri": "https://localhost:8080/"
        },
        "id": "qOvL8W54JbJn",
        "outputId": "d55ea7ef-9749-4313-bc49-bad5c1358ebc"
      },
      "execution_count": 61,
      "outputs": [
        {
          "output_type": "stream",
          "name": "stdout",
          "text": [
            "1\n",
            "2\n",
            "3\n",
            "4\n",
            "5\n",
            "6\n",
            "7\n",
            "\n"
          ]
        }
      ]
    },
    {
      "cell_type": "code",
      "source": [
        "#18.How would you implement a basic logging setup that logs to a file with rotation after 1MB?\n",
        "import logging\n",
        "from logging.handlers import RotatingFileHandler\n",
        "\n",
        "logger = logging.getLogger('my_logger')\n",
        "logger.setLevel(logging.INFO)\n",
        "\n",
        "handler = RotatingFileHandler('app.log', maxBytes=1048576, backupCount=3)\n",
        "\n",
        "formatter = logging.Formatter('%(asctime)s - %(levelname)s - %(message)s')\n",
        "\n",
        "\n",
        "handler.setFormatter(formatter)\n",
        "\n",
        "logger.addHandler(handler)\n",
        "\n",
        "\n",
        "logger.info('This is an info message')\n",
        "logger.error('This is an error message')"
      ],
      "metadata": {
        "colab": {
          "base_uri": "https://localhost:8080/"
        },
        "id": "YduRVl3TJvHc",
        "outputId": "7f5f0cc8-98d8-49a1-a4bd-7db510553f43"
      },
      "execution_count": 62,
      "outputs": [
        {
          "output_type": "stream",
          "name": "stderr",
          "text": [
            "INFO:my_logger:This is an info message\n",
            "ERROR:my_logger:This is an error message\n"
          ]
        }
      ]
    },
    {
      "cell_type": "code",
      "source": [
        "#19. Write a program that handles both IndexError and KeyError using a try-except block?\n",
        "try:\n",
        "    l=[1,2,3,34,5]\n",
        "    print(l[10])\n",
        "except IndexError as e:\n",
        "    print(e)\n",
        "\n",
        "try:\n",
        "    dic={'name':'bhavsagar','age':20}\n",
        "    print(dic['address'])\n",
        "except KeyError as e:\n",
        "    print(e,'--> key does not exist in the dictionary')"
      ],
      "metadata": {
        "colab": {
          "base_uri": "https://localhost:8080/"
        },
        "id": "QnbRHh2wJ_5M",
        "outputId": "2df7fb05-e423-4edb-fb0f-7de1ad9edfc3"
      },
      "execution_count": 63,
      "outputs": [
        {
          "output_type": "stream",
          "name": "stdout",
          "text": [
            "list index out of range\n",
            "'address' --> key does not exist in the dictionary\n"
          ]
        }
      ]
    },
    {
      "cell_type": "code",
      "source": [
        "#20. How would you open a file and read its contents using a context manager in Python?\n",
        "with open('file1.txt','r') as f:\n",
        "    data=f.read()\n",
        "    print(data)"
      ],
      "metadata": {
        "colab": {
          "base_uri": "https://localhost:8080/"
        },
        "id": "1RVl3MwtKOoc",
        "outputId": "454f17fc-7e3c-4147-d3bb-418171e41c20"
      },
      "execution_count": 64,
      "outputs": [
        {
          "output_type": "stream",
          "name": "stdout",
          "text": [
            "hello my name is bhavsagar\n",
            "i am 20 years old\n",
            "this is the assisgnment of files,exceptional handling,logging and memmory management module\n",
            "this is the  last line \n",
            "In response to this, planning researchers have settled on a factored representation\n",
            "We use a language called PDDL, the Planning Domain Definition\n"
          ]
        }
      ]
    },
    {
      "cell_type": "code",
      "source": [
        "#21.Write a Python program that reads a file and prints the number of occurrences of a specific word\n",
        "count=0\n",
        "word=input('enter the word to be searched:')\n",
        "with open('file1.txt','r') as f:\n",
        "    data=f.read()\n",
        "    words=data.split()\n",
        "\n",
        "    for i in words:\n",
        "        if i==word:\n",
        "            count+=1\n",
        "\n",
        "    print(f'number of times \"{word}\" occur in file = {count}')\n",
        ""
      ],
      "metadata": {
        "colab": {
          "base_uri": "https://localhost:8080/"
        },
        "id": "l5AWFv91KXP8",
        "outputId": "3e179b9f-5874-4799-de4f-d2c65e6a634d"
      },
      "execution_count": 65,
      "outputs": [
        {
          "output_type": "stream",
          "name": "stdout",
          "text": [
            "enter the word to be searched:is\n",
            "number of times \"is\" occur in file = 3\n"
          ]
        }
      ]
    },
    {
      "cell_type": "code",
      "source": [
        "#22. How can you check if a file is empty before attempting to read its contents?\n",
        "import os\n",
        "if os.path.getsize('file2.txt')==0:\n",
        "    print('file is empty')\n",
        "else :\n",
        "    with open('file4.txt','r') as f:\n",
        "     print(f.read())"
      ],
      "metadata": {
        "colab": {
          "base_uri": "https://localhost:8080/"
        },
        "id": "pBOTVssgKuEx",
        "outputId": "107f895a-7e95-4ad9-8800-a02b8e60e66a"
      },
      "execution_count": 66,
      "outputs": [
        {
          "output_type": "stream",
          "name": "stdout",
          "text": [
            "file is empty\n"
          ]
        }
      ]
    },
    {
      "cell_type": "code",
      "source": [
        "#23. Write a Python program that writes to a log file when an error occurs during file handling.\n",
        "import logging\n",
        "logging.basicConfig(filename='app1.log',level=logging.DEBUG,format='%(asctime)s - %(levelname)s - %(message)s' )\n",
        "file_name=input(\"enter the file name:\")\n",
        "try:\n",
        "    with open(file_name,'r') as  f:\n",
        "        data=f.read()\n",
        "        print(data)\n",
        "except FileNotFoundError as e:\n",
        "    print('error :file does not exist')\n",
        "    logging.error(f\"FileNotFoundError: {e}\")\n"
      ],
      "metadata": {
        "colab": {
          "base_uri": "https://localhost:8080/"
        },
        "id": "fLAyR5dZLBEB",
        "outputId": "9a57ec60-8403-43d2-de2c-5f26383f685d"
      },
      "execution_count": 67,
      "outputs": [
        {
          "name": "stdout",
          "output_type": "stream",
          "text": [
            "enter the file name:file333.txt\n"
          ]
        },
        {
          "output_type": "stream",
          "name": "stderr",
          "text": [
            "ERROR:root:FileNotFoundError: [Errno 2] No such file or directory: 'file333.txt'\n"
          ]
        },
        {
          "output_type": "stream",
          "name": "stdout",
          "text": [
            "error :file does not exist\n"
          ]
        }
      ]
    }
  ]
}