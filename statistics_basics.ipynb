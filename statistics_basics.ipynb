{
  "nbformat": 4,
  "nbformat_minor": 0,
  "metadata": {
    "colab": {
      "provenance": []
    },
    "kernelspec": {
      "name": "python3",
      "display_name": "Python 3"
    },
    "language_info": {
      "name": "python"
    }
  },
  "cells": [
    {
      "cell_type": "markdown",
      "source": [
        "1.What is statistics, and why is it important?\n",
        ">Statistics is the science of collecting, analyzing, interpreting, and presenting data.\n",
        "It helps us make informed decisions by uncovering patterns and trends.\n",
        "Statistics is essential in research, business, healthcare, and many other fields.\n",
        "It turns raw data into meaningful insights to solve real-world problems.\n",
        "\n",
        "2.What are the two main types of statistics?\n",
        ">Descriptive Statistics – Summarizes and organizes data using measures like mean, median, mode, and graphs.\n",
        "\n",
        ">Inferential Statistics – Makes predictions or inferences about a population based on a sample of data.\n",
        "\n",
        "3.What are descriptive statistics?\n",
        ">Descriptive statistics are methods used to summarize, organize, and present data in a clear and understandable way. They do not draw conclusions beyond the data.\n",
        "\n",
        "4.What is inferential statistics?\n",
        ">Inferential statistics involves using data from a sample to make predictions or generalizations about a larger population. It helps assess relationships, test hypotheses, and estimate population parameters.\n",
        "\n",
        "5.What is sampling in statistics?\n",
        ">Sampling in statistics is the process of selecting a subset (sample) from a larger group (population) to analyze and make inferences about the whole population.It is used because studying an entire population is often impractical, costly, or time-consuming.\n",
        "\n",
        "6.What are the different types of sampling methods?\n",
        ">Simple Random Sampling: Every individual has an equal chance (e.g., lottery draw).\n",
        "\n",
        ">Systematic Sampling: Every kᵗʰ member is selected from a list (e.g., every 10th student).\n",
        "\n",
        ">Stratified Sampling: Population is divided into groups (strata), and samples are taken from each.\n",
        "\n",
        ">Cluster Sampling: Population is divided into clusters, then some clusters are randomly selected entirely.\n",
        "\n",
        "7.What is the difference between random and non-random sampling?\n",
        ">Random sampling gives each population member an equal chance of selection, ensuring unbiased results.Random methods are more reliable for generalizing to a population.\n",
        "\n",
        ">Non-random sampling selects individuals based on convenience or judgment, which may introduce bias.Non-random methods are quicker and easier but less accurate.\n",
        "\n",
        "8.Define and give examples of qualitative and quantitative data.\n",
        ">Qualitative data describes qualities or categories and is non-numeric.\n",
        "Example: Colors of cars (red, blue), types of fruits, customer feedback.\n",
        "\n",
        ">Quantitative data involves numbers and measurable quantities.\n",
        "Example: Height in cm, number of students, temperature in °C\n",
        "\n",
        "9.What are the different types of data in statistics?\n",
        ">1.Qualitative (Categorical) Data\n",
        "   Describes qualities or categories\n",
        "\n",
        ">Nominal: No natural order (e.g., gender, colors, religion)\n",
        "\n",
        ">Ordinal: Has a meaningful order (e.g., rankings, satisfaction levels)\n",
        "\n",
        ">2.Quantitative (Numerical) Data\n",
        "Represents measurable quantities\n",
        "\n",
        ">Discrete: Countable numbers (e.g., number of students, cars)\n",
        "\n",
        ">Continuous: Measurable but not countable (e.g., weight, height, temperature)\n",
        "\n",
        "10.Explain nominal, ordinal, interval, and ratio levels of measurement.\n",
        ">Nominal Level:Data at the nominal level is categorized without any inherent order or ranking. It’s purely for labeling. Examples include types of animals, hair colors, or countries. The key characteristic is that there is no order, just distinct categories.\n",
        "\n",
        ">Ordinal Level:Data at the ordinal level can be ordered or ranked, but the intervals between the ranks are not necessarily consistent. Examples include rankings (1st, 2nd, 3rd), satisfaction levels (low, medium, high), or education levels (high school, college, graduate). While the data can be ranked, the difference between them is not uniform.\n",
        "\n",
        ">Interval Level:\n",
        "Data at the interval level can be ordered, and the intervals between values are consistent and meaningful. However, there is no true zero point. An example is temperature in Celsius or Fahrenheit, where the difference between temperatures is meaningful, but zero does not mean \"no temperature.\"\n",
        "\n",
        ">Ratio Level:\n",
        "Data at the ratio level has all the properties of interval data, but with a true zero point, meaning zero signifies the absence of the measured attribute. Examples include weight, height, and age, where zero means the complete absence of the quantity, and ratios (like twice as heavy) are meaningful.\n",
        "\n",
        "11.What is the measure of central tendency?\n",
        ">Measures of central tendency summarize a dataset by identifying its center.\n",
        "The mean is the average of all values, the median is the middle value when ordered, and the mode is the most frequent value.\n",
        "\n",
        "12.Define mean, median, and mode.\n",
        ">Mean: The average of all values in a dataset, calculated by summing all values and dividing by the number of values.\n",
        "Example: For [3, 5, 7], the mean is (3+5+7)/3 = 5.\n",
        "\n",
        ">Median: The middle value when the data is ordered in ascending or descending order. If there’s an even number of values, it’s the average of the two middle values.\n",
        "Example: For [3, 5, 7], the median is 5. For [1, 3, 5, 7], the median is (3+5)/2 = 4.\n",
        "\n",
        ">Mode: The value that appears most frequently in the dataset.\n",
        "Example: For [1, 2, 2, 3, 4], the mode is 2.\n",
        "\n",
        "13.What is the significance of the measure of central tendency?\n",
        ">The measure of central tendency is significant because it provides a single value that represents the center or typical value of a dataset. It helps summarize and simplify large datasets, making it easier to understand trends and patterns.\n",
        "\n",
        "14.What is variance, and how is it calculated?\n",
        ">Variance is a statistical measure that represents the spread or dispersion of a dataset. It tells you how much the individual data points differ from the mean of the dataset. A high variance indicates that the data points are spread out, while a low variance indicates they are close to the mean.\n",
        "\n",
        ">Steps to calculate variance:\n",
        ">>Find the mean of the dataset.\n",
        "\n",
        ">>Subtract the mean from each data point and square the result.\n",
        "\n",
        ">>For population variance, take the average of those squared differences.\n",
        "\n",
        ">>For sample variance, take the sum of squared differences and divide by\n",
        "n−1 (degrees of freedom).\n",
        "\n",
        "15.What is standard deviation, and why is it important?\n",
        ">Standard deviation is a measure of how spread out the values in a dataset are around the mean. It is the square root of the variance and gives a more interpretable measure of dispersion in the same units as the data.Standard deviation helps in understanding the consistency and reliability of data, making it a key metric in statistics.\n",
        "\n",
        "16.Define and explain the term range in statistics.\n",
        ">Range in statistics is the simplest measure of dispersion, representing the difference between the largest and smallest values in a dataset. It gives a quick sense of the spread of the data.\n",
        "\n",
        "17.What is the difference between variance and standard deviation?\n",
        ">Units: Variance is in squared units, while standard deviation is in the original units of the data.\n",
        "\n",
        ">Interpretation: Standard deviation is generally preferred for interpretation because it is in the same units as the data and provides a clearer understanding of the data's spread.\n",
        "\n",
        "18.What is skewness in a dataset?\n",
        ">Skewness in a dataset refers to the asymmetry or departure from symmetry in the distribution of data. It indicates whether the data is skewed towards the left (negative skew) or the right (positive skew).\n",
        "\n",
        "19.What does it mean if a dataset is positively or negatively skewed?\n",
        ">A positively skewed dataset has a longer right tail, with most data points concentrated on the left side, pulling the mean to the right. The mean is typically greater than the median in positively skewed data. A negative\n",
        "ly skewed dataset has a longer left tail, with most data points concentrated on the right side, pulling the mean to the left. The mean is typically less than the median in negatively skewed data. Skewness helps understand the shape of the distribution and how the data points are spread.\n",
        "\n",
        "20.Define and explain kurtosis?\n",
        ">Kurtosis is a statistical measure that describes the tailedness or the peak of a data distribution. It indicates how much of the data is concentrated in the tails or near the mean compared to a normal distribution. Kurtosis helps in understanding the extremity of outliers in the data.\n",
        "\n",
        "21.What is the purpose of covariance?\n",
        ">Covariance is a statistical measure that indicates the relationship between two variables and how they change together. It shows whether an increase in one variable corresponds to an increase or decrease in another variable.\n",
        "\n",
        "22.What does correlation measure in statistics?\n",
        ">Correlation measures the strength and direction of the linear relationship between two variables. It quantifies how changes in one variable are associated with changes in another variable.The correlation coefficient (r) ranges from -1 to 1:\n",
        "\n",
        "23.What is the difference between covariance and correlation?\n",
        ">Scale:Covariance is affected by the units of the variables, so it is not standardized and can take any value depending on the scale of the data.Correlation, on the other hand, is a standardized measure and is always between -1 and 1, regardless of the units of the variables.\n",
        "\n",
        ">Interpretation:Covariance tells you whether two variables increase or decrease together, but the magnitude of covariance is difficult to interpret because it depends on the scale of the data.Correlation provides a clearer interpretation of the strength and direction of the relationship between the variables, with values closer to 1 or -1 indicating a stronger relationship.\n",
        "\n",
        "24.What are some real-world applications of statistics?\n",
        ">Statistics is widely applied in many fields to analyze data, make predictions, and guide decision-making:\n",
        "\n",
        ">Healthcare: Analyzing disease spread, clinical trials, and health risks.\n",
        "\n",
        ">Finance: Assessing risks, predicting economic trends, and setting insurance premiums.\n",
        "\n",
        ">Marketing: Understanding consumer behavior and optimizing business strategies.\n",
        "\n",
        ">Sports: Analyzing player performance, predicting outcomes, and managing injuries.\n",
        "\n",
        ">Education: Evaluating test results, improving policies, and tracking school performance."
      ],
      "metadata": {
        "id": "ii4mhJa0n9i-"
      }
    },
    {
      "cell_type": "code",
      "source": [
        "#1.How do you calculate the mean, median, and mode of a dataset?\n",
        "import numpy as np\n",
        "from scipy import stats\n",
        "dataset = [1, 2, 3, 4, 5,3,23,2,33,3]\n",
        "mean = np.mean(dataset)\n",
        "median = np.median(dataset)\n",
        "mode = stats.mode(dataset)[0]\n",
        "print(f\"Mean: {mean}\")\n",
        "print(f\"Median: {median}\")\n",
        "print(f\"Mode: {mode}\")\n"
      ],
      "metadata": {
        "colab": {
          "base_uri": "https://localhost:8080/"
        },
        "id": "wYq7WMzSqexy",
        "outputId": "4718c7e5-5e93-4735-eed3-bbd914dd101f"
      },
      "execution_count": 1,
      "outputs": [
        {
          "output_type": "stream",
          "name": "stdout",
          "text": [
            "Mean: 7.9\n",
            "Median: 3.0\n",
            "Mode: 3\n"
          ]
        }
      ]
    },
    {
      "cell_type": "code",
      "source": [
        "#2.Write a Python program to compute the variance and standard deviation of a dataset?\n",
        "data=[1,3,4,2,5,6]\n",
        "variance = np.var(data)\n",
        "std_deviation = np.std(data)\n",
        "print(f\"Variance: {variance}\")\n",
        "print(f\"Standard Deviation: {std_deviation}\")"
      ],
      "metadata": {
        "colab": {
          "base_uri": "https://localhost:8080/"
        },
        "id": "SsYp-CDovbYA",
        "outputId": "3fc1419b-546d-42c2-e533-7c08df686ffa"
      },
      "execution_count": 2,
      "outputs": [
        {
          "output_type": "stream",
          "name": "stdout",
          "text": [
            "Variance: 2.9166666666666665\n",
            "Standard Deviation: 1.707825127659933\n"
          ]
        }
      ]
    },
    {
      "cell_type": "code",
      "source": [
        "#3. Create a dataset and classify it into nominal, ordinal, interval, and ratio types\n",
        "import pandas as pd\n",
        "data = {\n",
        "    'Student Name': ['Bhav', 'abhishek', 'sagar', 'imran', 'harsh'],\n",
        "    'Class': ['A', 'B', 'A', 'C', 'B'],\n",
        "    'Temperature (°C)': [22, 23, 21, 20, 22],\n",
        "    'Height (cm)': [150, 160, 155, 165, 158]\n",
        "}\n",
        "df = pd.DataFrame(data)\n",
        "print(df)\n",
        "print(\"nominal: Class\")\n",
        "print(\"ordinal: Temperature\")\n",
        "print(\"interval: Temperature\")\n",
        "print(\"ratio: Height\")\n"
      ],
      "metadata": {
        "colab": {
          "base_uri": "https://localhost:8080/"
        },
        "id": "_e8v4Z4pvqrW",
        "outputId": "a09f4e1d-aafb-460c-f0b3-7e01259b98df"
      },
      "execution_count": 3,
      "outputs": [
        {
          "output_type": "stream",
          "name": "stdout",
          "text": [
            "  Student Name Class  Temperature (°C)  Height (cm)\n",
            "0         Bhav     A                22          150\n",
            "1     abhishek     B                23          160\n",
            "2        sagar     A                21          155\n",
            "3        imran     C                20          165\n",
            "4        harsh     B                22          158\n",
            "nominal: Class\n",
            "ordinal: Temperature\n",
            "interval: Temperature\n",
            "ratio: Height\n"
          ]
        }
      ]
    },
    {
      "cell_type": "code",
      "source": [
        "#4.Implement sampling techniques like random sampling and stratified sampling\n",
        "data = {\n",
        "    'Student Name': ['Bhav', 'abhishek', 'sonam', 'imran', 'sumna'],\n",
        "    'Age': [18, 20, 19, 21, 22],\n",
        "    'Gender': ['Male', 'Male', 'Female', 'Male', 'Female']\n",
        "\n",
        "}\n",
        "df = pd.DataFrame(data)\n",
        "print(df)\n",
        "random_sample = df.sample(n=3, random_state=42)\n",
        "stratified_sample = df.groupby('Gender').apply(lambda x: x.sample(n=2, random_state=42)).reset_index(drop=True)\n",
        "print(\"Random Sample:\")\n",
        "print(random_sample)\n",
        "print(\"\\nStratified Sample:\")\n",
        "print(stratified_sample)\n",
        "\n",
        "\n",
        "\n"
      ],
      "metadata": {
        "colab": {
          "base_uri": "https://localhost:8080/"
        },
        "id": "iG_sVuM-wrkR",
        "outputId": "5a8d8386-f4d6-470b-9513-f938104ce62d"
      },
      "execution_count": 4,
      "outputs": [
        {
          "output_type": "stream",
          "name": "stdout",
          "text": [
            "  Student Name  Age  Gender\n",
            "0         Bhav   18    Male\n",
            "1     abhishek   20    Male\n",
            "2        sonam   19  Female\n",
            "3        imran   21    Male\n",
            "4        sumna   22  Female\n",
            "Random Sample:\n",
            "  Student Name  Age  Gender\n",
            "1     abhishek   20    Male\n",
            "4        sumna   22  Female\n",
            "2        sonam   19  Female\n",
            "\n",
            "Stratified Sample:\n",
            "  Student Name  Age  Gender\n",
            "0        sumna   22  Female\n",
            "1        sonam   19  Female\n",
            "2         Bhav   18    Male\n",
            "3     abhishek   20    Male\n"
          ]
        },
        {
          "output_type": "stream",
          "name": "stderr",
          "text": [
            "<ipython-input-4-43362ec0044c>:11: DeprecationWarning: DataFrameGroupBy.apply operated on the grouping columns. This behavior is deprecated, and in a future version of pandas the grouping columns will be excluded from the operation. Either pass `include_groups=False` to exclude the groupings or explicitly select the grouping columns after groupby to silence this warning.\n",
            "  stratified_sample = df.groupby('Gender').apply(lambda x: x.sample(n=2, random_state=42)).reset_index(drop=True)\n"
          ]
        }
      ]
    },
    {
      "cell_type": "code",
      "source": [
        "#5.Write a Python function to calculate the range of a dataset?\n",
        "def calculate_range(data):\n",
        "    data_range = max(data) - min(data)\n",
        "    return data_range\n",
        "data = [2, 4, 6, 8, 10]\n",
        "range_value = calculate_range(data)\n",
        "print(f\"The range of the dataset is: {range_value}\")\n",
        "\n",
        "\n"
      ],
      "metadata": {
        "colab": {
          "base_uri": "https://localhost:8080/"
        },
        "id": "amBqUC6FzMtu",
        "outputId": "5589386a-fda0-438b-98de-2fd747813410"
      },
      "execution_count": 5,
      "outputs": [
        {
          "output_type": "stream",
          "name": "stdout",
          "text": [
            "The range of the dataset is: 8\n"
          ]
        }
      ]
    },
    {
      "cell_type": "code",
      "source": [
        "#6.Create a dataset and plot its histogram to visualize skewness\n",
        "import matplotlib.pyplot as plt\n",
        "import seaborn as sns\n",
        "data = np.random.exponential(scale=2, size=1000)\n",
        "plt.figure(figsize=(8, 6))\n",
        "sns.histplot(data, kde=True, color=\"skyblue\", bins=30)\n",
        "plt.title('Histogram to Visualize Skewness')\n",
        "plt.xlabel('Data values')\n",
        "plt.ylabel('Frequency')\n",
        "plt.show()\n"
      ],
      "metadata": {
        "colab": {
          "base_uri": "https://localhost:8080/",
          "height": 564
        },
        "id": "YxahC505zheY",
        "outputId": "d33742e8-0f26-4e62-fbb5-919bbedbee4f"
      },
      "execution_count": 6,
      "outputs": [
        {
          "output_type": "display_data",
          "data": {
            "text/plain": [
              "<Figure size 800x600 with 1 Axes>"
            ],
            "image/png": "[encoded data removed]"
          },
          "metadata": {}
        }
      ]
    },
    {
      "cell_type": "code",
      "source": [
        "#7. Calculate skewness and kurtosis of a dataset using Python libraries\n",
        "import scipy.stats as stats\n",
        "data = [1, 2, 3, 4, 5,1,2,3,4]\n",
        "skewness = stats.skew(data)\n",
        "kurtosis = stats.kurtosis(data)\n",
        "print(f\"Skewness: {skewness}\")\n",
        "print(f\"Kurtosis: {kurtosis}\")"
      ],
      "metadata": {
        "colab": {
          "base_uri": "https://localhost:8080/"
        },
        "id": "4kQ3_HH40aYb",
        "outputId": "e7c3f840-efba-4639-c990-e6e3b3da12df"
      },
      "execution_count": 7,
      "outputs": [
        {
          "output_type": "stream",
          "name": "stdout",
          "text": [
            "Skewness: 0.120736322104074\n",
            "Kurtosis: -1.1565306122448982\n"
          ]
        }
      ]
    },
    {
      "cell_type": "code",
      "source": [
        "#8. Generate a dataset and demonstrate positive and negative skewness\n",
        "from scipy.stats import skew\n",
        "positive_skew_data = np.random.exponential(scale=2, size=1000)\n",
        "negative_skew_data = np.random.lognormal(mean=0, sigma=1, size=1000)\n",
        "positive_skewness = skew(positive_skew_data)\n",
        "negative_skewness = skew(negative_skew_data)\n",
        "print(f\"Skewness of positively skewed dataset: {positive_skewness}\")\n",
        "print(f\"Skewness of negatively skewed dataset: {negative_skewness}\")\n",
        "\n"
      ],
      "metadata": {
        "colab": {
          "base_uri": "https://localhost:8080/"
        },
        "id": "fRvIK7tJ06t-",
        "outputId": "bf74fe42-55d9-41db-d841-8d3f19df55a1"
      },
      "execution_count": 8,
      "outputs": [
        {
          "output_type": "stream",
          "name": "stdout",
          "text": [
            "Skewness of positively skewed dataset: 1.9458800459591405\n",
            "Skewness of negatively skewed dataset: 5.582727260201477\n"
          ]
        }
      ]
    },
    {
      "cell_type": "code",
      "source": [
        "#9.Write a Python script to calculate covariance between two datasets\n",
        "x = [2, 4, 6, 8, 10]\n",
        "y = [3, 5, 7, 9, 12]\n",
        "def calculate_covariance(x, y):\n",
        "    n = len(x)\n",
        "    mean_x = sum(x) / n\n",
        "    mean_y = sum(y) / n\n",
        "\n",
        "    covariance = sum((x[i] - mean_x) * (y[i] - mean_y) for i in range(n)) / (n - 1)\n",
        "    return covariance\n",
        "\n",
        "manual_cov = calculate_covariance(x, y)\n",
        "print(f\"Covariance: {manual_cov}\")\n"
      ],
      "metadata": {
        "colab": {
          "base_uri": "https://localhost:8080/"
        },
        "id": "UXzFy-v11fQR",
        "outputId": "40d4d261-78e0-4bba-bc43-7b3bce452591"
      },
      "execution_count": 9,
      "outputs": [
        {
          "output_type": "stream",
          "name": "stdout",
          "text": [
            "Covariance: 11.0\n"
          ]
        }
      ]
    },
    {
      "cell_type": "code",
      "source": [
        "#10.Write a Python script to calculate the correlation coefficient between two datasets\n",
        "x = [2, 4, 6, 8, 10]\n",
        "y = [3, 5, 7, 9, 12]\n",
        "def calculate_correlation(x, y):\n",
        "    n = len(x)\n",
        "    num= sum((x[i] - np.mean(x)) * (y[i] - np.mean(y)) for i in range(n))\n",
        "    den = np.std(x) * np.std(y)*n\n",
        "    corr = num / den\n",
        "    return corr\n",
        "a = calculate_correlation(x, y)\n",
        "print(f\"Correlation(between x and y): {a}\")\n",
        "print(np.corrcoef(x, y))\n",
        "\n",
        "\n"
      ],
      "metadata": {
        "colab": {
          "base_uri": "https://localhost:8080/"
        },
        "id": "osb5qSLH166E",
        "outputId": "f1d42dfd-f9f8-44ee-c98f-145cb99b14f9"
      },
      "execution_count": 10,
      "outputs": [
        {
          "output_type": "stream",
          "name": "stdout",
          "text": [
            "Correlation(between x and y): 0.9958932064677039\n",
            "[[1.         0.99589321]\n",
            " [0.99589321 1.        ]]\n"
          ]
        }
      ]
    },
    {
      "cell_type": "code",
      "source": [
        "#11.Create a scatter plot to visualize the relationship between two variables\n",
        "data = pd.DataFrame({\n",
        "    'X': [1, 2, 3, 4, 5,6,7,8,9,10],\n",
        "    'Y': [1, 4, 9, 16, 25, 36 ,49,64, 81, 100]\n",
        "})\n",
        "\n",
        "# Create scatter plot\n",
        "sns.scatterplot(x='X', y='Y', data=data)\n",
        "plt.title('Scatter Plot of X vs Y')\n",
        "plt.show()"
      ],
      "metadata": {
        "id": "S2TX30yh3vyr",
        "colab": {
          "base_uri": "https://localhost:8080/",
          "height": 472
        },
        "outputId": "7af6270b-7d36-4a9f-8569-1d6a390ac256"
      },
      "execution_count": 11,
      "outputs": [
        {
          "output_type": "display_data",
          "data": {
            "text/plain": [
              "<Figure size 640x480 with 1 Axes>"
            ],
            "image/png": "[encoded data removed]"
          },
          "metadata": {}
        }
      ]
    },
    {
      "cell_type": "code",
      "source": [
        "#12. Implement and compare simple random sampling and systematic sampling\n",
        "data = pd.DataFrame({\n",
        "    'ID': range(1, 101),\n",
        "    'Value': np.random.randint(1, 100, 100)\n",
        "})\n",
        "sample_size = 10\n",
        "simple_random_sample = data.sample(n=sample_size, random_state=42)\n",
        "k = len(data) // sample_size\n",
        "start = np.random.randint(0, k)\n",
        "systematic_sample = data.iloc[start::k][:sample_size]\n",
        "\n",
        "print(\"Simple Random Sample:\")\n",
        "print(simple_random_sample)\n",
        "\n",
        "print(\"\\nSystematic Sample:\")\n",
        "print(systematic_sample)\n"
      ],
      "metadata": {
        "colab": {
          "base_uri": "https://localhost:8080/"
        },
        "id": "JT-qjr6ADlp9",
        "outputId": "d488fd44-0aa8-4cb8-d67d-976a395041ff"
      },
      "execution_count": 12,
      "outputs": [
        {
          "output_type": "stream",
          "name": "stdout",
          "text": [
            "Simple Random Sample:\n",
            "    ID  Value\n",
            "83  84     20\n",
            "53  54      5\n",
            "70  71     32\n",
            "45  46     54\n",
            "44  45     24\n",
            "39  40     47\n",
            "22  23     24\n",
            "80  81     46\n",
            "10  11     75\n",
            "0    1      4\n",
            "\n",
            "Systematic Sample:\n",
            "    ID  Value\n",
            "4    5     31\n",
            "14  15     49\n",
            "24  25     78\n",
            "34  35     36\n",
            "44  45     24\n",
            "54  55      3\n",
            "64  65     34\n",
            "74  75     93\n",
            "84  85     85\n",
            "94  95     17\n"
          ]
        }
      ]
    },
    {
      "cell_type": "code",
      "source": [
        "#13.Calculate the mean, median, and mode of grouped data.\n",
        "\n",
        "classes = [(0, 10), (10, 20), (20, 30), (30, 40), (40, 50)]\n",
        "frequencies = [5, 8, 15, 16, 6]\n",
        "\n",
        "\n",
        "midpoints = [(cls[0] + cls[1]) / 2 for cls in classes]\n",
        "total_frequency = sum(frequencies)\n",
        "fx = [f * x for f, x in zip(frequencies, midpoints)]\n",
        "mean = sum(fx) / total_frequency\n",
        "\n",
        "\n",
        "cumulative_frequencies = [sum(frequencies[:i+1]) for i in range(len(frequencies))]\n",
        "N = total_frequency\n",
        "median_class_index = next(i for i, cf in enumerate(cumulative_frequencies) if cf >= N/2)\n",
        "\n",
        "L = classes[median_class_index][0]\n",
        "F = cumulative_frequencies[median_class_index - 1] if median_class_index > 0 else 0\n",
        "f = frequencies[median_class_index]\n",
        "h = classes[median_class_index][1] - classes[median_class_index][0]\n",
        "\n",
        "median = L + ((N/2 - F) / f) * h\n",
        "\n",
        "modal_class_index = frequencies.index(max(frequencies))\n",
        "L = classes[modal_class_index][0]\n",
        "f1 = frequencies[modal_class_index]\n",
        "f0 = frequencies[modal_class_index - 1] if modal_class_index > 0 else 0\n",
        "f2 = frequencies[modal_class_index + 1] if modal_class_index < len(frequencies) - 1 else 0\n",
        "\n",
        "mode = L + ((f1 - f0) / (2*f1 - f0 - f2)) * h\n",
        "\n",
        "\n",
        "print(f\"Mean = {mean}\")\n",
        "print(f\"Median = {median}\")\n",
        "print(f\"Mode = {mode}\")\n"
      ],
      "metadata": {
        "colab": {
          "base_uri": "https://localhost:8080/"
        },
        "id": "bRDRmreTELof",
        "outputId": "b3352019-aaae-4a28-c59c-9f3d01125271"
      },
      "execution_count": 13,
      "outputs": [
        {
          "output_type": "stream",
          "name": "stdout",
          "text": [
            "Mean = 27.0\n",
            "Median = 28.0\n",
            "Mode = 30.90909090909091\n"
          ]
        }
      ]
    },
    {
      "cell_type": "code",
      "source": [
        "#14. Simulate data using Python and calculate its central tendency and dispersion.\n",
        "data = np.random.normal(loc=50, scale=10, size=1000)\n",
        "\n",
        "mean = np.mean(data)\n",
        "median = np.median(data)\n",
        "mode = stats.mode(data, keepdims=True).mode[0]\n",
        "\n",
        "data_range = np.ptp(data)\n",
        "variance = np.var(data)\n",
        "std_dev = np.std(data)\n",
        "\n",
        "print(f\"Mean: {mean:.2f}\")\n",
        "print(f\"Median: {median:.2f}\")\n",
        "print(f\"Mode: {mode:.2f}\")\n",
        "print(f\"Range: {data_range:.2f}\")\n",
        "print(f\"Variance: {variance:.2f}\")\n",
        "print(f\"Standard Deviation: {std_dev:.2f}\")\n",
        "\n",
        "\n",
        "plt.hist(data, bins=30, edgecolor='black', alpha=0.7)\n",
        "plt.axvline(mean, color='red', linestyle='--', label=f'Mean = {mean:.2f}')\n",
        "plt.axvline(median, color='blue', linestyle='--', label=f'Median = {median:.2f}')\n",
        "plt.axvline(mode, color='green', linestyle='--', label=f'Mode = {mode:.2f}')\n",
        "plt.xlabel('Value')\n",
        "plt.ylabel('Frequency')\n",
        "plt.legend()\n",
        "plt.grid(True)\n",
        "plt.show()\n"
      ],
      "metadata": {
        "colab": {
          "base_uri": "https://localhost:8080/",
          "height": 553
        },
        "id": "CvhmZW44FC07",
        "outputId": "f51d29a1-a21a-42c6-a008-8cc24f08e8ef"
      },
      "execution_count": 14,
      "outputs": [
        {
          "output_type": "stream",
          "name": "stdout",
          "text": [
            "Mean: 50.17\n",
            "Median: 50.20\n",
            "Mode: 19.00\n",
            "Range: 64.77\n",
            "Variance: 98.49\n",
            "Standard Deviation: 9.92\n"
          ]
        },
        {
          "output_type": "display_data",
          "data": {
            "text/plain": [
              "<Figure size 640x480 with 1 Axes>"
            ],
            "image/png": "[encoded data removed]"
          },
          "metadata": {}
        }
      ]
    },
    {
      "cell_type": "code",
      "source": [
        "#15.Use NumPy or pandas to summarize a dataset’s descriptive statistics\n",
        "import seaborn as sns\n",
        "df=sns.load_dataset('iris')\n",
        "df.describe()"
      ],
      "metadata": {
        "id": "YxJ0P7C2FcJm",
        "colab": {
          "base_uri": "https://localhost:8080/",
          "height": 300
        },
        "outputId": "adc0b6e8-47a6-43da-da41-0200872837e4"
      },
      "execution_count": 20,
      "outputs": [
        {
          "output_type": "execute_result",
          "data": {
            "text/plain": [
              "       sepal_length  sepal_width  petal_length  petal_width\n",
              "count    150.000000   150.000000    150.000000   150.000000\n",
              "mean       5.843333     3.057333      3.758000     1.199333\n",
              "std        0.828066     0.435866      1.765298     0.762238\n",
              "min        4.300000     2.000000      1.000000     0.100000\n",
              "25%        5.100000     2.800000      1.600000     0.300000\n",
              "50%        5.800000     3.000000      4.350000     1.300000\n",
              "75%        6.400000     3.300000      5.100000     1.800000\n",
              "max        7.900000     4.400000      6.900000     2.500000"
            ],
            "text/html": [
              "\n",
              "  <div id=\"df-c17306ba-78b9-468b-9070-f743a9164206\" class=\"colab-df-container\">\n",
              "    <div>\n",
              "<style scoped>\n",
              "    .dataframe tbody tr th:only-of-type {\n",
              "        vertical-align: middle;\n",
              "    }\n",
              "\n",
              "    .dataframe tbody tr th {\n",
              "        vertical-align: top;\n",
              "    }\n",
              "\n",
              "    .dataframe thead th {\n",
              "        text-align: right;\n",
              "    }\n",
              "</style>\n",
              "<table border=\"1\" class=\"dataframe\">\n",
              "  <thead>\n",
              "    <tr style=\"text-align: right;\">\n",
              "      <th></th>\n",
              "      <th>sepal_length</th>\n",
              "      <th>sepal_width</th>\n",
              "      <th>petal_length</th>\n",
              "      <th>petal_width</th>\n",
              "    </tr>\n",
              "  </thead>\n",
              "  <tbody>\n",
              "    <tr>\n",
              "      <th>count</th>\n",
              "      <td>150.000000</td>\n",
              "      <td>150.000000</td>\n",
              "      <td>150.000000</td>\n",
              "      <td>150.000000</td>\n",
              "    </tr>\n",
              "    <tr>\n",
              "      <th>mean</th>\n",
              "      <td>5.843333</td>\n",
              "      <td>3.057333</td>\n",
              "      <td>3.758000</td>\n",
              "      <td>1.199333</td>\n",
              "    </tr>\n",
              "    <tr>\n",
              "      <th>std</th>\n",
              "      <td>0.828066</td>\n",
              "      <td>0.435866</td>\n",
              "      <td>1.765298</td>\n",
              "      <td>0.762238</td>\n",
              "    </tr>\n",
              "    <tr>\n",
              "      <th>min</th>\n",
              "      <td>4.300000</td>\n",
              "      <td>2.000000</td>\n",
              "      <td>1.000000</td>\n",
              "      <td>0.100000</td>\n",
              "    </tr>\n",
              "    <tr>\n",
              "      <th>25%</th>\n",
              "      <td>5.100000</td>\n",
              "      <td>2.800000</td>\n",
              "      <td>1.600000</td>\n",
              "      <td>0.300000</td>\n",
              "    </tr>\n",
              "    <tr>\n",
              "      <th>50%</th>\n",
              "      <td>5.800000</td>\n",
              "      <td>3.000000</td>\n",
              "      <td>4.350000</td>\n",
              "      <td>1.300000</td>\n",
              "    </tr>\n",
              "    <tr>\n",
              "      <th>75%</th>\n",
              "      <td>6.400000</td>\n",
              "      <td>3.300000</td>\n",
              "      <td>5.100000</td>\n",
              "      <td>1.800000</td>\n",
              "    </tr>\n",
              "    <tr>\n",
              "      <th>max</th>\n",
              "      <td>7.900000</td>\n",
              "      <td>4.400000</td>\n",
              "      <td>6.900000</td>\n",
              "      <td>2.500000</td>\n",
              "    </tr>\n",
              "  </tbody>\n",
              "</table>\n",
              "</div>\n",
              "    <div class=\"colab-df-buttons\">\n",
              "\n",
              "  <div class=\"colab-df-container\">\n",
              "    <button class=\"colab-df-convert\" onclick=\"convertToInteractive('df-c17306ba-78b9-468b-9070-f743a9164206')\"\n",
              "            title=\"Convert this dataframe to an interactive table.\"\n",
              "            style=\"display:none;\">\n",
              "\n",
              "  <svg xmlns=\"http://www.w3.org/2000/svg\" height=\"24px\" viewBox=\"0 -960 960 960\">\n",
              "    <path d=\"M120-120v-720h720v720H120Zm60-500h600v-160H180v160Zm220 220h160v-160H400v160Zm0 220h160v-160H400v160ZM180-400h160v-160H180v160Zm440 0h160v-160H620v160ZM180-180h160v-160H180v160Zm440 0h160v-160H620v160Z\"/>\n",
              "  </svg>\n",
              "    </button>\n",
              "\n",
              "  <style>\n",
              "    .colab-df-container {\n",
              "      display:flex;\n",
              "      gap: 12px;\n",
              "    }\n",
              "\n",
              "    .colab-df-convert {\n",
              "      background-color: #E8F0FE;\n",
              "      border: none;\n",
              "      border-radius: 50%;\n",
              "      cursor: pointer;\n",
              "      display: none;\n",
              "      fill: #1967D2;\n",
              "      height: 32px;\n",
              "      padding: 0 0 0 0;\n",
              "      width: 32px;\n",
              "    }\n",
              "\n",
              "    .colab-df-convert:hover {\n",
              "      background-color: #E2EBFA;\n",
              "      box-shadow: 0px 1px 2px rgba(60, 64, 67, 0.3), 0px 1px 3px 1px rgba(60, 64, 67, 0.15);\n",
              "      fill: #174EA6;\n",
              "    }\n",
              "\n",
              "    .colab-df-buttons div {\n",
              "      margin-bottom: 4px;\n",
              "    }\n",
              "\n",
              "    [theme=dark] .colab-df-convert {\n",
              "      background-color: #3B4455;\n",
              "      fill: #D2E3FC;\n",
              "    }\n",
              "\n",
              "    [theme=dark] .colab-df-convert:hover {\n",
              "      background-color: #434B5C;\n",
              "      box-shadow: 0px 1px 3px 1px rgba(0, 0, 0, 0.15);\n",
              "      filter: drop-shadow(0px 1px 2px rgba(0, 0, 0, 0.3));\n",
              "      fill: #FFFFFF;\n",
              "    }\n",
              "  </style>\n",
              "\n",
              "    <script>\n",
              "      const buttonEl =\n",
              "        document.querySelector('#df-c17306ba-78b9-468b-9070-f743a9164206 button.colab-df-convert');\n",
              "      buttonEl.style.display =\n",
              "        google.colab.kernel.accessAllowed ? 'block' : 'none';\n",
              "\n",
              "      async function convertToInteractive(key) {\n",
              "        const element = document.querySelector('#df-c17306ba-78b9-468b-9070-f743a9164206');\n",
              "        const dataTable =\n",
              "          await google.colab.kernel.invokeFunction('convertToInteractive',\n",
              "                                                    [key], {});\n",
              "        if (!dataTable) return;\n",
              "\n",
              "        const docLinkHtml = 'Like what you see? Visit the ' +\n",
              "          '<a target=\"_blank\" href=https://colab.research.google.com/notebooks/data_table.ipynb>data table notebook</a>'\n",
              "          + ' to learn more about interactive tables.';\n",
              "        element.innerHTML = '';\n",
              "        dataTable['output_type'] = 'display_data';\n",
              "        await google.colab.output.renderOutput(dataTable, element);\n",
              "        const docLink = document.createElement('div');\n",
              "        docLink.innerHTML = docLinkHtml;\n",
              "        element.appendChild(docLink);\n",
              "      }\n",
              "    </script>\n",
              "  </div>\n",
              "\n",
              "\n",
              "    <div id=\"df-a5484b78-fb50-4b1c-9951-dedb04a44056\">\n",
              "      <button class=\"colab-df-quickchart\" onclick=\"quickchart('df-a5484b78-fb50-4b1c-9951-dedb04a44056')\"\n",
              "                title=\"Suggest charts\"\n",
              "                style=\"display:none;\">\n",
              "\n",
              "<svg xmlns=\"http://www.w3.org/2000/svg\" height=\"24px\"viewBox=\"0 0 24 24\"\n",
              "     width=\"24px\">\n",
              "    <g>\n",
              "        <path d=\"M19 3H5c-1.1 0-2 .9-2 2v14c0 1.1.9 2 2 2h14c1.1 0 2-.9 2-2V5c0-1.1-.9-2-2-2zM9 17H7v-7h2v7zm4 0h-2V7h2v10zm4 0h-2v-4h2v4z\"/>\n",
              "    </g>\n",
              "</svg>\n",
              "      </button>\n",
              "\n",
              "<style>\n",
              "  .colab-df-quickchart {\n",
              "      --bg-color: #E8F0FE;\n",
              "      --fill-color: #1967D2;\n",
              "      --hover-bg-color: #E2EBFA;\n",
              "      --hover-fill-color: #174EA6;\n",
              "      --disabled-fill-color: #AAA;\n",
              "      --disabled-bg-color: #DDD;\n",
              "  }\n",
              "\n",
              "  [theme=dark] .colab-df-quickchart {\n",
              "      --bg-color: #3B4455;\n",
              "      --fill-color: #D2E3FC;\n",
              "      --hover-bg-color: #434B5C;\n",
              "      --hover-fill-color: #FFFFFF;\n",
              "      --disabled-bg-color: #3B4455;\n",
              "      --disabled-fill-color: #666;\n",
              "  }\n",
              "\n",
              "  .colab-df-quickchart {\n",
              "    background-color: var(--bg-color);\n",
              "    border: none;\n",
              "    border-radius: 50%;\n",
              "    cursor: pointer;\n",
              "    display: none;\n",
              "    fill: var(--fill-color);\n",
              "    height: 32px;\n",
              "    padding: 0;\n",
              "    width: 32px;\n",
              "  }\n",
              "\n",
              "  .colab-df-quickchart:hover {\n",
              "    background-color: var(--hover-bg-color);\n",
              "    box-shadow: 0 1px 2px rgba(60, 64, 67, 0.3), 0 1px 3px 1px rgba(60, 64, 67, 0.15);\n",
              "    fill: var(--button-hover-fill-color);\n",
              "  }\n",
              "\n",
              "  .colab-df-quickchart-complete:disabled,\n",
              "  .colab-df-quickchart-complete:disabled:hover {\n",
              "    background-color: var(--disabled-bg-color);\n",
              "    fill: var(--disabled-fill-color);\n",
              "    box-shadow: none;\n",
              "  }\n",
              "\n",
              "  .colab-df-spinner {\n",
              "    border: 2px solid var(--fill-color);\n",
              "    border-color: transparent;\n",
              "    border-bottom-color: var(--fill-color);\n",
              "    animation:\n",
              "      spin 1s steps(1) infinite;\n",
              "  }\n",
              "\n",
              "  @keyframes spin {\n",
              "    0% {\n",
              "      border-color: transparent;\n",
              "      border-bottom-color: var(--fill-color);\n",
              "      border-left-color: var(--fill-color);\n",
              "    }\n",
              "    20% {\n",
              "      border-color: transparent;\n",
              "      border-left-color: var(--fill-color);\n",
              "      border-top-color: var(--fill-color);\n",
              "    }\n",
              "    30% {\n",
              "      border-color: transparent;\n",
              "      border-left-color: var(--fill-color);\n",
              "      border-top-color: var(--fill-color);\n",
              "      border-right-color: var(--fill-color);\n",
              "    }\n",
              "    40% {\n",
              "      border-color: transparent;\n",
              "      border-right-color: var(--fill-color);\n",
              "      border-top-color: var(--fill-color);\n",
              "    }\n",
              "    60% {\n",
              "      border-color: transparent;\n",
              "      border-right-color: var(--fill-color);\n",
              "    }\n",
              "    80% {\n",
              "      border-color: transparent;\n",
              "      border-right-color: var(--fill-color);\n",
              "      border-bottom-color: var(--fill-color);\n",
              "    }\n",
              "    90% {\n",
              "      border-color: transparent;\n",
              "      border-bottom-color: var(--fill-color);\n",
              "    }\n",
              "  }\n",
              "</style>\n",
              "\n",
              "      <script>\n",
              "        async function quickchart(key) {\n",
              "          const quickchartButtonEl =\n",
              "            document.querySelector('#' + key + ' button');\n",
              "          quickchartButtonEl.disabled = true;  // To prevent multiple clicks.\n",
              "          quickchartButtonEl.classList.add('colab-df-spinner');\n",
              "          try {\n",
              "            const charts = await google.colab.kernel.invokeFunction(\n",
              "                'suggestCharts', [key], {});\n",
              "          } catch (error) {\n",
              "            console.error('Error during call to suggestCharts:', error);\n",
              "          }\n",
              "          quickchartButtonEl.classList.remove('colab-df-spinner');\n",
              "          quickchartButtonEl.classList.add('colab-df-quickchart-complete');\n",
              "        }\n",
              "        (() => {\n",
              "          let quickchartButtonEl =\n",
              "            document.querySelector('#df-a5484b78-fb50-4b1c-9951-dedb04a44056 button');\n",
              "          quickchartButtonEl.style.display =\n",
              "            google.colab.kernel.accessAllowed ? 'block' : 'none';\n",
              "        })();\n",
              "      </script>\n",
              "    </div>\n",
              "\n",
              "    </div>\n",
              "  </div>\n"
            ],
            "application/vnd.google.colaboratory.intrinsic+json": {
              "type": "dataframe",
              "summary": "{\n  \"name\": \"df\",\n  \"rows\": 8,\n  \"fields\": [\n    {\n      \"column\": \"sepal_length\",\n      \"properties\": {\n        \"dtype\": \"number\",\n        \"std\": 51.24711349471842,\n        \"min\": 0.8280661279778629,\n        \"max\": 150.0,\n        \"num_unique_values\": 8,\n        \"samples\": [\n          5.843333333333334,\n          5.8,\n          150.0\n        ],\n        \"semantic_type\": \"\",\n        \"description\": \"\"\n      }\n    },\n    {\n      \"column\": \"sepal_width\",\n      \"properties\": {\n        \"dtype\": \"number\",\n        \"std\": 52.08617800869866,\n        \"min\": 0.435866284936698,\n        \"max\": 150.0,\n        \"num_unique_values\": 8,\n        \"samples\": [\n          3.0573333333333337,\n          3.0,\n          150.0\n        ],\n        \"semantic_type\": \"\",\n        \"description\": \"\"\n      }\n    },\n    {\n      \"column\": \"petal_length\",\n      \"properties\": {\n        \"dtype\": \"number\",\n        \"std\": 51.83521261418364,\n        \"min\": 1.0,\n        \"max\": 150.0,\n        \"num_unique_values\": 8,\n        \"samples\": [\n          3.7580000000000005,\n          4.35,\n          150.0\n        ],\n        \"semantic_type\": \"\",\n        \"description\": \"\"\n      }\n    },\n    {\n      \"column\": \"petal_width\",\n      \"properties\": {\n        \"dtype\": \"number\",\n        \"std\": 52.636648242617504,\n        \"min\": 0.1,\n        \"max\": 150.0,\n        \"num_unique_values\": 8,\n        \"samples\": [\n          1.1993333333333336,\n          1.3,\n          150.0\n        ],\n        \"semantic_type\": \"\",\n        \"description\": \"\"\n      }\n    }\n  ]\n}"
            }
          },
          "metadata": {},
          "execution_count": 20
        }
      ]
    },
    {
      "cell_type": "code",
      "source": [
        "#16.Plot a boxplot to understand the spread and identify outliers\n",
        "df=sns.load_dataset('tips')\n",
        "sns.boxplot(df.tip)\n",
        "plt.title('Boxplot of tip')\n",
        "plt.grid(True)\n",
        "plt.show()"
      ],
      "metadata": {
        "colab": {
          "base_uri": "https://localhost:8080/",
          "height": 433
        },
        "id": "CTUAg_3gTn3A",
        "outputId": "6affce12-d5e7-4daa-8c8b-f9e219ada06a"
      },
      "execution_count": 30,
      "outputs": [
        {
          "output_type": "display_data",
          "data": {
            "text/plain": [
              "<Figure size 640x480 with 1 Axes>"
            ],
            "image/png": "[encoded data removed]"
          },
          "metadata": {}
        }
      ]
    },
    {
      "cell_type": "code",
      "source": [
        "#17.Calculate the interquartile range (IQR) of a dataset\n",
        "df=sns.load_dataset('tips')\n",
        "tip=df.tip\n",
        "Q1 = np.percentile(tip, 25)\n",
        "Q3 = np.percentile(tip, 75)\n",
        "IQR = Q3 - Q1\n",
        "\n",
        "print(\"Q1:\", Q1)\n",
        "print(\"Q3:\", Q3)\n",
        "print(\"IQR:\", IQR)\n",
        "\n"
      ],
      "metadata": {
        "colab": {
          "base_uri": "https://localhost:8080/"
        },
        "id": "ek2KGXZST7I2",
        "outputId": "6c43a8a0-0c24-46bc-c05b-a117026b7484"
      },
      "execution_count": 35,
      "outputs": [
        {
          "output_type": "stream",
          "name": "stdout",
          "text": [
            "Q1: 2.0\n",
            "Q3: 3.5625\n",
            "IQR: 1.5625\n"
          ]
        }
      ]
    },
    {
      "cell_type": "code",
      "source": [
        "#18.Implement Z-score normalization and explain its significance\n",
        "data = [10, 20, 30, 40, 50]\n",
        "data = np.array(data)\n",
        "mean = np.mean(data)\n",
        "std = np.std(data)\n",
        "z_scores = (data - mean) / std\n",
        "print(\"Original Data:\", data)\n",
        "print(\"Z-score Normalized Data:\", z_scores)\n",
        "\n",
        "#SIGNIFICANCE:\n",
        "#             Removes Units: Converts values into a standard scale (unitless), which is useful when features are on different scales.\n",
        "\n",
        "#             Improves Model Performance: Algorithms like k-NN, SVM, logistic regression, and neural networks are sensitive to scale.\n",
        "\n",
        "#             Handles Outliers Better than Min-Max: Since it's based on mean and standard deviation, it’s more robust in many real-world scenarios.\n",
        "\n",
        "\n",
        "\n"
      ],
      "metadata": {
        "colab": {
          "base_uri": "https://localhost:8080/"
        },
        "id": "e8jbNm0IVRnt",
        "outputId": "d7702bc8-797e-48fd-d03b-5b4c195ed061"
      },
      "execution_count": 36,
      "outputs": [
        {
          "output_type": "stream",
          "name": "stdout",
          "text": [
            "Original Data: [10 20 30 40 50]\n",
            "Z-score Normalized Data: [-1.41421356 -0.70710678  0.          0.70710678  1.41421356]\n"
          ]
        }
      ]
    },
    {
      "cell_type": "code",
      "source": [
        "#19. Compare two datasets using their standard deviations\n",
        "dataset1 = [23, 25, 29, 30, 34]\n",
        "dataset2 = [10, 20, 30, 40, 50]\n",
        "\n",
        "std1 = np.std(dataset1)\n",
        "std2 = np.std(dataset2)\n",
        "print(f\"Standard Deviation of Dataset 1: {std1}\")\n",
        "print(f\"Standard Deviation of Dataset 2: {std2}\")\n",
        "\n",
        "if std1 > std2:\n",
        "    print(\"Dataset 1 is more spread out than Dataset 2.\")\n",
        "elif std1 < std2:\n",
        "    print(\"Dataset 2 is more spread out than Dataset 1.\")\n",
        "else:\n",
        "    print(\"Both datasets have the same variability.\")\n",
        "\n"
      ],
      "metadata": {
        "colab": {
          "base_uri": "https://localhost:8080/"
        },
        "id": "N2BYPg5VWJBQ",
        "outputId": "b1a5cbf7-39f5-4fd8-e8d3-7370cfce91b9"
      },
      "execution_count": 39,
      "outputs": [
        {
          "output_type": "stream",
          "name": "stdout",
          "text": [
            "Standard Deviation of Dataset 1: 3.867815921162743\n",
            "Standard Deviation of Dataset 2: 14.142135623730951\n",
            "Dataset 2 is more spread out than Dataset 1.\n"
          ]
        }
      ]
    },
    {
      "cell_type": "code",
      "source": [
        "#20.Write a Python program to visualize covariance using a heatmap\n",
        "data = {\n",
        "    'Math': [85, 89, 92, 88, 100],\n",
        "    'Physics': [78, 85, 84, 90, 95],\n",
        "    'Chemistry': [82, 86, 88, 89, 93]\n",
        "}\n",
        "df = pd.DataFrame(data)\n",
        "cov_matrix = df.cov()\n",
        "print(\"Covariance Matrix:\")\n",
        "print(cov_matrix)\n",
        "sns.heatmap(cov_matrix, annot=True, cmap=\"coolwarm\", fmt=\".2f\", linewidths=1)\n",
        "plt.title(\"Covariance Heatmap\")\n",
        "plt.show()"
      ],
      "metadata": {
        "colab": {
          "base_uri": "https://localhost:8080/",
          "height": 539
        },
        "id": "XMGqFkyxXDyb",
        "outputId": "a4299d3b-779c-4be1-ef73-f29c4042fcd6"
      },
      "execution_count": 41,
      "outputs": [
        {
          "output_type": "stream",
          "name": "stdout",
          "text": [
            "Covariance Matrix:\n",
            "            Math  Physics  Chemistry\n",
            "Math       32.70    29.35      20.40\n",
            "Physics    29.35    41.30      24.95\n",
            "Chemistry  20.40    24.95      16.30\n"
          ]
        },
        {
          "output_type": "display_data",
          "data": {
            "text/plain": [
              "<Figure size 640x480 with 2 Axes>"
            ],
            "image/png": "[encoded data removed]"
          },
          "metadata": {}
        }
      ]
    },
    {
      "cell_type": "code",
      "source": [
        "#21. Use seaborn to create a correlation matrix for a dataset\n",
        "data = {\n",
        "    'col1': [85, 9, -92, 88, 10],\n",
        "    'col2': [7, 85, 8, 90, -5],\n",
        "    'Col3': [8, 86, 8, 8, 93]\n",
        "}\n",
        "df = pd.DataFrame(data)\n",
        "corr_matrix = df.corr()\n",
        "print(\"Correlation  Matrix:\")\n",
        "print(corr_matrix)\n",
        "sns.heatmap(corr_matrix, annot=True, cmap=\"coolwarm\", fmt=\".2f\", linewidths=1)\n",
        "plt.title(\"Correlation Heatmap\")\n",
        "plt.show()\n"
      ],
      "metadata": {
        "colab": {
          "base_uri": "https://localhost:8080/",
          "height": 539
        },
        "id": "dwQ4DjbMXrF2",
        "outputId": "1f50c8da-8b49-4e66-e9a0-4dcc55103062"
      },
      "execution_count": 45,
      "outputs": [
        {
          "output_type": "stream",
          "name": "stdout",
          "text": [
            "Correlation  Matrix:\n",
            "          col1      col2      Col3\n",
            "col1  1.000000  0.351259 -0.129929\n",
            "col2  0.351259  1.000000  0.020962\n",
            "Col3 -0.129929  0.020962  1.000000\n"
          ]
        },
        {
          "output_type": "display_data",
          "data": {
            "text/plain": [
              "<Figure size 640x480 with 2 Axes>"
            ],
            "image/png": "[encoded data removed]"
          },
          "metadata": {}
        }
      ]
    },
    {
      "cell_type": "code",
      "source": [
        "#22. Generate a dataset and implement both variance and standard deviation computations\n",
        "exam_scores = [75, 82, 90, 60, 85, 91, 77, 88, 92, 69]\n",
        "df = pd.DataFrame(exam_scores, columns=['Scores'])\n",
        "\n",
        "variance = np.var(df['Scores'])\n",
        "std_deviation = np.std(df['Scores'])\n",
        "\n",
        "print(f\"Variance: {variance}\")\n",
        "print(f\"Standard Deviation: {std_deviation}\")\n"
      ],
      "metadata": {
        "colab": {
          "base_uri": "https://localhost:8080/"
        },
        "id": "7EhSxmgIX666",
        "outputId": "f3edc85a-0bb4-4655-fd07-d595a1bf570f"
      },
      "execution_count": 46,
      "outputs": [
        {
          "output_type": "stream",
          "name": "stdout",
          "text": [
            "Variance: 100.49000000000001\n",
            "Standard Deviation: 10.024470060806207\n"
          ]
        }
      ]
    },
    {
      "cell_type": "code",
      "source": [
        "#23.Visualize skewness and kurtosis using Python libraries like matplotlib or seaborn\n",
        "from scipy.stats import skew, kurtosis\n",
        "data_normal = np.random.normal(loc=50, scale=10, size=1000)\n",
        "data_skewed = np.random.exponential(scale=10, size=1000)\n",
        "\n",
        "df = pd.DataFrame({\n",
        "    'Normal Distribution': data_normal,\n",
        "    'Skewed Distribution': data_skewed\n",
        "})\n",
        "\n",
        "\n",
        "skew_normal = skew(df['Normal Distribution'])\n",
        "kurt_normal = kurtosis(df['Normal Distribution'])\n",
        "skew_skewed = skew(df['Skewed Distribution'])\n",
        "kurt_skewed = kurtosis(df['Skewed Distribution'])\n",
        "\n",
        "\n",
        "print(f\"Normal Distribution - Skewness: {skew_normal}, Kurtosis: {kurt_normal}\")\n",
        "print(f\"Skewed Distribution - Skewness: {skew_skewed}, Kurtosis: {kurt_skewed}\")\n",
        "\n",
        "\n",
        "plt.figure(figsize=(12, 6))\n",
        "\n",
        "plt.subplot(1, 2, 1)\n",
        "sns.histplot(df['Normal Distribution'], kde=True, color='skyblue')\n",
        "plt.title('Normal Distribution (Skewness: {:.2f}, Kurtosis: {:.2f})'.format(skew_normal, kurt_normal))\n",
        "\n",
        "plt.subplot(1, 2, 2)\n",
        "sns.histplot(df['Skewed Distribution'], kde=True, color='salmon')\n",
        "plt.title('Skewed Distribution (Skewness: {:.2f}, Kurtosis: {:.2f})'.format(skew_skewed, kurt_skewed))\n",
        "plt.show()"
      ],
      "metadata": {
        "colab": {
          "base_uri": "https://localhost:8080/",
          "height": 599
        },
        "id": "wqcPvjJ0ZHMV",
        "outputId": "d8c5001a-3676-42f3-aefe-c1b34d8eb19e"
      },
      "execution_count": 48,
      "outputs": [
        {
          "output_type": "stream",
          "name": "stdout",
          "text": [
            "Normal Distribution - Skewness: -0.03391449674438331, Kurtosis: -0.1855853210281606\n",
            "Skewed Distribution - Skewness: 2.7233117641252997, Kurtosis: 15.266657128115536\n"
          ]
        },
        {
          "output_type": "display_data",
          "data": {
            "text/plain": [
              "<Figure size 1200x600 with 2 Axes>"
            ],
            "image/png": "[encoded data removed]"
          },
          "metadata": {}
        }
      ]
    },
    {
      "cell_type": "code",
      "source": [
        "#24 Implement the Pearson and Spearman correlation coefficients for a dataset.\n",
        "from scipy.stats import pearsonr, spearmanr\n",
        "x = np.random.normal(loc=50, scale=10, size=100)\n",
        "y = 0.8 * x + np.random.normal(loc=0, scale=5, size=100)\n",
        "\n",
        "df = pd.DataFrame({'X': x, 'Y': y})\n",
        "pearson_corr, _ = pearsonr(df['X'], df['Y'])\n",
        "spearman_corr, _ = spearmanr(df['X'], df['Y'])\n",
        "print(f\"Pearson Correlation: {pearson_corr:.2f}\")\n",
        "print(f\"Spearman Correlation: {spearman_corr:.2f}\")"
      ],
      "metadata": {
        "colab": {
          "base_uri": "https://localhost:8080/"
        },
        "id": "bmeyHIl5Zz7U",
        "outputId": "548f680f-d4e9-4aeb-9962-cc1e057770d6"
      },
      "execution_count": 49,
      "outputs": [
        {
          "output_type": "stream",
          "name": "stdout",
          "text": [
            "Pearson Correlation: 0.84\n",
            "Spearman Correlation: 0.83\n"
          ]
        }
      ]
    }
  ]
}